{
  "cells": [
    {
      "cell_type": "markdown",
      "metadata": {
        "id": "view-in-github",
        "colab_type": "text"
      },
      "source": [
        "<a href=\"https://colab.research.google.com/github/Joshuaiwuoha/Analytics-projects-/blob/main/Copy_of_Investigate_no_show_appointment_dataset.ipynb\" target=\"_parent\"><img src=\"https://colab.research.google.com/assets/colab-badge.svg\" alt=\"Open In Colab\"/></a>"
      ]
    },
    {
      "cell_type": "markdown",
      "metadata": {
        "id": "RUO1bxqA9aEt"
      },
      "source": [
        "# Project: Investigate a Dataset - No_show_appointment_dataset\n",
        "\n",
        "Table of Contents\n",
        "<ul>\n",
        "<li><a href=\"#intro\">Introduction</a></li>\n",
        "<li><a href=\"#wrangling\">Data Wrangling</a></li>\n",
        "    <li><a href = '#quality'>Data Quality Issues</a></li>\n",
        "<li><a href=\"#eda\">Exploratory Data Analysis</a></li>\n",
        "<li><a href=\"#conclusions\">Conclusions</a></li>\n",
        "</ul>"
      ]
    },
    {
      "cell_type": "markdown",
      "metadata": {
        "id": "EKkURoWb9aEy"
      },
      "source": [
        "<a id='intro'></a>\n",
        "## Introduction\n",
        "\n",
        "### Dataset Description \n",
        "\n",
        ">This dataset collects information from 100k medical appointments in Brazil and is focused on the question of whether or not patients show up for their appointment. A number of characteristics about the patient are included in each row.\n",
        "\n",
        "‘ScheduledDay’ tells us on what day the patient set up their appointment. ‘Neighborhood’ indicates the location of the hospital. ‘Scholarship’ indicates whether or not the patient is enrolled in Brasilian welfare program Bolsa Família. Be careful about the encoding of the last column: it says ‘No’ if the patient showed up to their appointment, and ‘Yes’ if they did not show up.\n",
        "\n",
        "\n",
        "### Question(s) for Analysis\n",
        "* Does the time of day have an effect on appointment attendance?\n",
        "* Are there any geographic factors that influence appointment attendance?\n",
        "* What is the impact of patient characteristics (e.g. age, gender, etc.) on appointment attendance?\n",
        "* Does the presence of a health condition affect appointment attendance rates?\n",
        "* Does the type of communication used to make an appointment (e.g. sms received) have an effect on no-show rates?\n",
        "* How does the time difference between the appointment day and scheduled day affect the decision to send an sms reminder?\n",
        "\n"
      ]
    },
    {
      "cell_type": "code",
      "execution_count": null,
      "metadata": {
        "id": "TiazxkOc9aE4"
      },
      "outputs": [],
      "source": [
        "import pandas as pd \n",
        "import numpy as np \n",
        "import matplotlib.pyplot as plt \n",
        "import seaborn as sns \n",
        "%matplotlib inline "
      ]
    },
    {
      "cell_type": "markdown",
      "metadata": {
        "id": "JhY19dOZ9aE5"
      },
      "source": [
        "<a id='wrangling'></a>\n",
        "## Data Wrangling\n",
        "\n",
        "> In this section of the report, The dataset is loaded, checked for cleanliness, and then trimed and cleaned for analysis. The Data cleaning steps are documented in mark-down cells precisely and cleaning decisions justified.\n"
      ]
    },
    {
      "cell_type": "code",
      "execution_count": null,
      "metadata": {
        "id": "2ocARfyvPHaW",
        "colab": {
          "base_uri": "https://localhost:8080/"
        },
        "outputId": "37f20fd9-4061-4596-8882-44f4384f354f"
      },
      "outputs": [
        {
          "output_type": "stream",
          "name": "stdout",
          "text": [
            "Drive already mounted at /content/drive; to attempt to forcibly remount, call drive.mount(\"/content/drive\", force_remount=True).\n"
          ]
        }
      ],
      "source": [
        "from google.colab import drive\n",
        "drive.mount('/content/drive')"
      ]
    },
    {
      "cell_type": "code",
      "execution_count": null,
      "metadata": {
        "id": "siuworKt9aE6",
        "scrolled": true,
        "colab": {
          "base_uri": "https://localhost:8080/",
          "height": 228
        },
        "outputId": "fba3ec96-ddc1-4696-d79a-38f4ce0304c3"
      },
      "outputs": [
        {
          "output_type": "execute_result",
          "data": {
            "text/plain": [
              "      PatientId  AppointmentID Gender          ScheduledDay  \\\n",
              "0  2.987250e+13        5642903      F  2016-04-29T18:38:08Z   \n",
              "1  5.589978e+14        5642503      M  2016-04-29T16:08:27Z   \n",
              "\n",
              "         AppointmentDay  Age    Neighbourhood  Scholarship  Hipertension  \\\n",
              "0  2016-04-29T00:00:00Z   62  JARDIM DA PENHA            0             1   \n",
              "1  2016-04-29T00:00:00Z   56  JARDIM DA PENHA            0             0   \n",
              "\n",
              "   Diabetes  Alcoholism  Handcap  SMS_received No-show  \n",
              "0         0           0        0             0      No  \n",
              "1         0           0        0             0      No  "
            ],
            "text/html": [
              "\n",
              "  <div id=\"df-f862986c-f329-4e7a-88b3-029619632b8f\">\n",
              "    <div class=\"colab-df-container\">\n",
              "      <div>\n",
              "<style scoped>\n",
              "    .dataframe tbody tr th:only-of-type {\n",
              "        vertical-align: middle;\n",
              "    }\n",
              "\n",
              "    .dataframe tbody tr th {\n",
              "        vertical-align: top;\n",
              "    }\n",
              "\n",
              "    .dataframe thead th {\n",
              "        text-align: right;\n",
              "    }\n",
              "</style>\n",
              "<table border=\"1\" class=\"dataframe\">\n",
              "  <thead>\n",
              "    <tr style=\"text-align: right;\">\n",
              "      <th></th>\n",
              "      <th>PatientId</th>\n",
              "      <th>AppointmentID</th>\n",
              "      <th>Gender</th>\n",
              "      <th>ScheduledDay</th>\n",
              "      <th>AppointmentDay</th>\n",
              "      <th>Age</th>\n",
              "      <th>Neighbourhood</th>\n",
              "      <th>Scholarship</th>\n",
              "      <th>Hipertension</th>\n",
              "      <th>Diabetes</th>\n",
              "      <th>Alcoholism</th>\n",
              "      <th>Handcap</th>\n",
              "      <th>SMS_received</th>\n",
              "      <th>No-show</th>\n",
              "    </tr>\n",
              "  </thead>\n",
              "  <tbody>\n",
              "    <tr>\n",
              "      <th>0</th>\n",
              "      <td>2.987250e+13</td>\n",
              "      <td>5642903</td>\n",
              "      <td>F</td>\n",
              "      <td>2016-04-29T18:38:08Z</td>\n",
              "      <td>2016-04-29T00:00:00Z</td>\n",
              "      <td>62</td>\n",
              "      <td>JARDIM DA PENHA</td>\n",
              "      <td>0</td>\n",
              "      <td>1</td>\n",
              "      <td>0</td>\n",
              "      <td>0</td>\n",
              "      <td>0</td>\n",
              "      <td>0</td>\n",
              "      <td>No</td>\n",
              "    </tr>\n",
              "    <tr>\n",
              "      <th>1</th>\n",
              "      <td>5.589978e+14</td>\n",
              "      <td>5642503</td>\n",
              "      <td>M</td>\n",
              "      <td>2016-04-29T16:08:27Z</td>\n",
              "      <td>2016-04-29T00:00:00Z</td>\n",
              "      <td>56</td>\n",
              "      <td>JARDIM DA PENHA</td>\n",
              "      <td>0</td>\n",
              "      <td>0</td>\n",
              "      <td>0</td>\n",
              "      <td>0</td>\n",
              "      <td>0</td>\n",
              "      <td>0</td>\n",
              "      <td>No</td>\n",
              "    </tr>\n",
              "  </tbody>\n",
              "</table>\n",
              "</div>\n",
              "      <button class=\"colab-df-convert\" onclick=\"convertToInteractive('df-f862986c-f329-4e7a-88b3-029619632b8f')\"\n",
              "              title=\"Convert this dataframe to an interactive table.\"\n",
              "              style=\"display:none;\">\n",
              "        \n",
              "  <svg xmlns=\"http://www.w3.org/2000/svg\" height=\"24px\"viewBox=\"0 0 24 24\"\n",
              "       width=\"24px\">\n",
              "    <path d=\"M0 0h24v24H0V0z\" fill=\"none\"/>\n",
              "    <path d=\"M18.56 5.44l.94 2.06.94-2.06 2.06-.94-2.06-.94-.94-2.06-.94 2.06-2.06.94zm-11 1L8.5 8.5l.94-2.06 2.06-.94-2.06-.94L8.5 2.5l-.94 2.06-2.06.94zm10 10l.94 2.06.94-2.06 2.06-.94-2.06-.94-.94-2.06-.94 2.06-2.06.94z\"/><path d=\"M17.41 7.96l-1.37-1.37c-.4-.4-.92-.59-1.43-.59-.52 0-1.04.2-1.43.59L10.3 9.45l-7.72 7.72c-.78.78-.78 2.05 0 2.83L4 21.41c.39.39.9.59 1.41.59.51 0 1.02-.2 1.41-.59l7.78-7.78 2.81-2.81c.8-.78.8-2.07 0-2.86zM5.41 20L4 18.59l7.72-7.72 1.47 1.35L5.41 20z\"/>\n",
              "  </svg>\n",
              "      </button>\n",
              "      \n",
              "  <style>\n",
              "    .colab-df-container {\n",
              "      display:flex;\n",
              "      flex-wrap:wrap;\n",
              "      gap: 12px;\n",
              "    }\n",
              "\n",
              "    .colab-df-convert {\n",
              "      background-color: #E8F0FE;\n",
              "      border: none;\n",
              "      border-radius: 50%;\n",
              "      cursor: pointer;\n",
              "      display: none;\n",
              "      fill: #1967D2;\n",
              "      height: 32px;\n",
              "      padding: 0 0 0 0;\n",
              "      width: 32px;\n",
              "    }\n",
              "\n",
              "    .colab-df-convert:hover {\n",
              "      background-color: #E2EBFA;\n",
              "      box-shadow: 0px 1px 2px rgba(60, 64, 67, 0.3), 0px 1px 3px 1px rgba(60, 64, 67, 0.15);\n",
              "      fill: #174EA6;\n",
              "    }\n",
              "\n",
              "    [theme=dark] .colab-df-convert {\n",
              "      background-color: #3B4455;\n",
              "      fill: #D2E3FC;\n",
              "    }\n",
              "\n",
              "    [theme=dark] .colab-df-convert:hover {\n",
              "      background-color: #434B5C;\n",
              "      box-shadow: 0px 1px 3px 1px rgba(0, 0, 0, 0.15);\n",
              "      filter: drop-shadow(0px 1px 2px rgba(0, 0, 0, 0.3));\n",
              "      fill: #FFFFFF;\n",
              "    }\n",
              "  </style>\n",
              "\n",
              "      <script>\n",
              "        const buttonEl =\n",
              "          document.querySelector('#df-f862986c-f329-4e7a-88b3-029619632b8f button.colab-df-convert');\n",
              "        buttonEl.style.display =\n",
              "          google.colab.kernel.accessAllowed ? 'block' : 'none';\n",
              "\n",
              "        async function convertToInteractive(key) {\n",
              "          const element = document.querySelector('#df-f862986c-f329-4e7a-88b3-029619632b8f');\n",
              "          const dataTable =\n",
              "            await google.colab.kernel.invokeFunction('convertToInteractive',\n",
              "                                                     [key], {});\n",
              "          if (!dataTable) return;\n",
              "\n",
              "          const docLinkHtml = 'Like what you see? Visit the ' +\n",
              "            '<a target=\"_blank\" href=https://colab.research.google.com/notebooks/data_table.ipynb>data table notebook</a>'\n",
              "            + ' to learn more about interactive tables.';\n",
              "          element.innerHTML = '';\n",
              "          dataTable['output_type'] = 'display_data';\n",
              "          await google.colab.output.renderOutput(dataTable, element);\n",
              "          const docLink = document.createElement('div');\n",
              "          docLink.innerHTML = docLinkHtml;\n",
              "          element.appendChild(docLink);\n",
              "        }\n",
              "      </script>\n",
              "    </div>\n",
              "  </div>\n",
              "  "
            ]
          },
          "metadata": {},
          "execution_count": 7
        }
      ],
      "source": [
        "df = pd.read_csv('/content/drive/MyDrive/noshowappointments-kagglev2-may-2016.csv')\n",
        "df.head(2)"
      ]
    },
    {
      "cell_type": "markdown",
      "metadata": {
        "id": "Xtd0ZB6r9aE8"
      },
      "source": [
        "<a id = 'assessment'></a>\n",
        "### Programmatic Assessment"
      ]
    },
    {
      "cell_type": "code",
      "execution_count": null,
      "metadata": {
        "id": "LouCmoKh9aE8",
        "colab": {
          "base_uri": "https://localhost:8080/"
        },
        "outputId": "9737438c-8ba1-4f03-85f1-fad2e1b21ea3"
      },
      "outputs": [
        {
          "output_type": "stream",
          "name": "stdout",
          "text": [
            "There are 110527 rows and 14 columns\n"
          ]
        }
      ],
      "source": [
        "print(f'There are {df.shape[0]} rows and {df.shape[1]} columns')\n",
        "      \n",
        "      "
      ]
    },
    {
      "cell_type": "code",
      "execution_count": null,
      "metadata": {
        "id": "rTnoya7p9aE9",
        "colab": {
          "base_uri": "https://localhost:8080/"
        },
        "outputId": "f5e4ed76-b205-44bf-bf4c-4fcab98cf9d1"
      },
      "outputs": [
        {
          "output_type": "execute_result",
          "data": {
            "text/plain": [
              "PatientId         float64\n",
              "AppointmentID       int64\n",
              "Gender             object\n",
              "ScheduledDay       object\n",
              "AppointmentDay     object\n",
              "Age                 int64\n",
              "Neighbourhood      object\n",
              "Scholarship         int64\n",
              "Hipertension        int64\n",
              "Diabetes            int64\n",
              "Alcoholism          int64\n",
              "Handcap             int64\n",
              "SMS_received        int64\n",
              "No-show            object\n",
              "dtype: object"
            ]
          },
          "metadata": {},
          "execution_count": 9
        }
      ],
      "source": [
        "df.dtypes"
      ]
    },
    {
      "cell_type": "code",
      "execution_count": null,
      "metadata": {
        "id": "ub9BUB3y9aE_",
        "scrolled": false,
        "colab": {
          "base_uri": "https://localhost:8080/"
        },
        "outputId": "a8915b71-6d36-44db-e478-d51b65386ffb"
      },
      "outputs": [
        {
          "output_type": "stream",
          "name": "stdout",
          "text": [
            "<class 'pandas.core.frame.DataFrame'>\n",
            "RangeIndex: 110527 entries, 0 to 110526\n",
            "Data columns (total 14 columns):\n",
            " #   Column          Non-Null Count   Dtype  \n",
            "---  ------          --------------   -----  \n",
            " 0   PatientId       110527 non-null  float64\n",
            " 1   AppointmentID   110527 non-null  int64  \n",
            " 2   Gender          110527 non-null  object \n",
            " 3   ScheduledDay    110527 non-null  object \n",
            " 4   AppointmentDay  110527 non-null  object \n",
            " 5   Age             110527 non-null  int64  \n",
            " 6   Neighbourhood   110527 non-null  object \n",
            " 7   Scholarship     110527 non-null  int64  \n",
            " 8   Hipertension    110527 non-null  int64  \n",
            " 9   Diabetes        110527 non-null  int64  \n",
            " 10  Alcoholism      110527 non-null  int64  \n",
            " 11  Handcap         110527 non-null  int64  \n",
            " 12  SMS_received    110527 non-null  int64  \n",
            " 13  No-show         110527 non-null  object \n",
            "dtypes: float64(1), int64(8), object(5)\n",
            "memory usage: 11.8+ MB\n"
          ]
        }
      ],
      "source": [
        "df.info()"
      ]
    },
    {
      "cell_type": "markdown",
      "metadata": {
        "id": "PmwFJEAn9aFA"
      },
      "source": [
        "There are no missing values in the data set and most are of the integer datatype."
      ]
    },
    {
      "cell_type": "code",
      "execution_count": null,
      "metadata": {
        "id": "S8h2qYTp9aFA",
        "colab": {
          "base_uri": "https://localhost:8080/",
          "height": 364
        },
        "outputId": "4699dcb3-d589-4355-c49d-ccfa333a3d66"
      },
      "outputs": [
        {
          "output_type": "execute_result",
          "data": {
            "text/plain": [
              "          PatientId  AppointmentID            Age    Scholarship  \\\n",
              "count  1.105270e+05   1.105270e+05  110527.000000  110527.000000   \n",
              "mean   1.474963e+14   5.675305e+06      37.088874       0.098266   \n",
              "std    2.560949e+14   7.129575e+04      23.110205       0.297675   \n",
              "min    3.921784e+04   5.030230e+06      -1.000000       0.000000   \n",
              "25%    4.172614e+12   5.640286e+06      18.000000       0.000000   \n",
              "50%    3.173184e+13   5.680573e+06      37.000000       0.000000   \n",
              "75%    9.439172e+13   5.725524e+06      55.000000       0.000000   \n",
              "max    9.999816e+14   5.790484e+06     115.000000       1.000000   \n",
              "\n",
              "        Hipertension       Diabetes     Alcoholism        Handcap  \\\n",
              "count  110527.000000  110527.000000  110527.000000  110527.000000   \n",
              "mean        0.197246       0.071865       0.030400       0.022248   \n",
              "std         0.397921       0.258265       0.171686       0.161543   \n",
              "min         0.000000       0.000000       0.000000       0.000000   \n",
              "25%         0.000000       0.000000       0.000000       0.000000   \n",
              "50%         0.000000       0.000000       0.000000       0.000000   \n",
              "75%         0.000000       0.000000       0.000000       0.000000   \n",
              "max         1.000000       1.000000       1.000000       4.000000   \n",
              "\n",
              "        SMS_received  \n",
              "count  110527.000000  \n",
              "mean        0.321026  \n",
              "std         0.466873  \n",
              "min         0.000000  \n",
              "25%         0.000000  \n",
              "50%         0.000000  \n",
              "75%         1.000000  \n",
              "max         1.000000  "
            ],
            "text/html": [
              "\n",
              "  <div id=\"df-35266d8c-7240-4855-9b83-bc36eb406ba1\">\n",
              "    <div class=\"colab-df-container\">\n",
              "      <div>\n",
              "<style scoped>\n",
              "    .dataframe tbody tr th:only-of-type {\n",
              "        vertical-align: middle;\n",
              "    }\n",
              "\n",
              "    .dataframe tbody tr th {\n",
              "        vertical-align: top;\n",
              "    }\n",
              "\n",
              "    .dataframe thead th {\n",
              "        text-align: right;\n",
              "    }\n",
              "</style>\n",
              "<table border=\"1\" class=\"dataframe\">\n",
              "  <thead>\n",
              "    <tr style=\"text-align: right;\">\n",
              "      <th></th>\n",
              "      <th>PatientId</th>\n",
              "      <th>AppointmentID</th>\n",
              "      <th>Age</th>\n",
              "      <th>Scholarship</th>\n",
              "      <th>Hipertension</th>\n",
              "      <th>Diabetes</th>\n",
              "      <th>Alcoholism</th>\n",
              "      <th>Handcap</th>\n",
              "      <th>SMS_received</th>\n",
              "    </tr>\n",
              "  </thead>\n",
              "  <tbody>\n",
              "    <tr>\n",
              "      <th>count</th>\n",
              "      <td>1.105270e+05</td>\n",
              "      <td>1.105270e+05</td>\n",
              "      <td>110527.000000</td>\n",
              "      <td>110527.000000</td>\n",
              "      <td>110527.000000</td>\n",
              "      <td>110527.000000</td>\n",
              "      <td>110527.000000</td>\n",
              "      <td>110527.000000</td>\n",
              "      <td>110527.000000</td>\n",
              "    </tr>\n",
              "    <tr>\n",
              "      <th>mean</th>\n",
              "      <td>1.474963e+14</td>\n",
              "      <td>5.675305e+06</td>\n",
              "      <td>37.088874</td>\n",
              "      <td>0.098266</td>\n",
              "      <td>0.197246</td>\n",
              "      <td>0.071865</td>\n",
              "      <td>0.030400</td>\n",
              "      <td>0.022248</td>\n",
              "      <td>0.321026</td>\n",
              "    </tr>\n",
              "    <tr>\n",
              "      <th>std</th>\n",
              "      <td>2.560949e+14</td>\n",
              "      <td>7.129575e+04</td>\n",
              "      <td>23.110205</td>\n",
              "      <td>0.297675</td>\n",
              "      <td>0.397921</td>\n",
              "      <td>0.258265</td>\n",
              "      <td>0.171686</td>\n",
              "      <td>0.161543</td>\n",
              "      <td>0.466873</td>\n",
              "    </tr>\n",
              "    <tr>\n",
              "      <th>min</th>\n",
              "      <td>3.921784e+04</td>\n",
              "      <td>5.030230e+06</td>\n",
              "      <td>-1.000000</td>\n",
              "      <td>0.000000</td>\n",
              "      <td>0.000000</td>\n",
              "      <td>0.000000</td>\n",
              "      <td>0.000000</td>\n",
              "      <td>0.000000</td>\n",
              "      <td>0.000000</td>\n",
              "    </tr>\n",
              "    <tr>\n",
              "      <th>25%</th>\n",
              "      <td>4.172614e+12</td>\n",
              "      <td>5.640286e+06</td>\n",
              "      <td>18.000000</td>\n",
              "      <td>0.000000</td>\n",
              "      <td>0.000000</td>\n",
              "      <td>0.000000</td>\n",
              "      <td>0.000000</td>\n",
              "      <td>0.000000</td>\n",
              "      <td>0.000000</td>\n",
              "    </tr>\n",
              "    <tr>\n",
              "      <th>50%</th>\n",
              "      <td>3.173184e+13</td>\n",
              "      <td>5.680573e+06</td>\n",
              "      <td>37.000000</td>\n",
              "      <td>0.000000</td>\n",
              "      <td>0.000000</td>\n",
              "      <td>0.000000</td>\n",
              "      <td>0.000000</td>\n",
              "      <td>0.000000</td>\n",
              "      <td>0.000000</td>\n",
              "    </tr>\n",
              "    <tr>\n",
              "      <th>75%</th>\n",
              "      <td>9.439172e+13</td>\n",
              "      <td>5.725524e+06</td>\n",
              "      <td>55.000000</td>\n",
              "      <td>0.000000</td>\n",
              "      <td>0.000000</td>\n",
              "      <td>0.000000</td>\n",
              "      <td>0.000000</td>\n",
              "      <td>0.000000</td>\n",
              "      <td>1.000000</td>\n",
              "    </tr>\n",
              "    <tr>\n",
              "      <th>max</th>\n",
              "      <td>9.999816e+14</td>\n",
              "      <td>5.790484e+06</td>\n",
              "      <td>115.000000</td>\n",
              "      <td>1.000000</td>\n",
              "      <td>1.000000</td>\n",
              "      <td>1.000000</td>\n",
              "      <td>1.000000</td>\n",
              "      <td>4.000000</td>\n",
              "      <td>1.000000</td>\n",
              "    </tr>\n",
              "  </tbody>\n",
              "</table>\n",
              "</div>\n",
              "      <button class=\"colab-df-convert\" onclick=\"convertToInteractive('df-35266d8c-7240-4855-9b83-bc36eb406ba1')\"\n",
              "              title=\"Convert this dataframe to an interactive table.\"\n",
              "              style=\"display:none;\">\n",
              "        \n",
              "  <svg xmlns=\"http://www.w3.org/2000/svg\" height=\"24px\"viewBox=\"0 0 24 24\"\n",
              "       width=\"24px\">\n",
              "    <path d=\"M0 0h24v24H0V0z\" fill=\"none\"/>\n",
              "    <path d=\"M18.56 5.44l.94 2.06.94-2.06 2.06-.94-2.06-.94-.94-2.06-.94 2.06-2.06.94zm-11 1L8.5 8.5l.94-2.06 2.06-.94-2.06-.94L8.5 2.5l-.94 2.06-2.06.94zm10 10l.94 2.06.94-2.06 2.06-.94-2.06-.94-.94-2.06-.94 2.06-2.06.94z\"/><path d=\"M17.41 7.96l-1.37-1.37c-.4-.4-.92-.59-1.43-.59-.52 0-1.04.2-1.43.59L10.3 9.45l-7.72 7.72c-.78.78-.78 2.05 0 2.83L4 21.41c.39.39.9.59 1.41.59.51 0 1.02-.2 1.41-.59l7.78-7.78 2.81-2.81c.8-.78.8-2.07 0-2.86zM5.41 20L4 18.59l7.72-7.72 1.47 1.35L5.41 20z\"/>\n",
              "  </svg>\n",
              "      </button>\n",
              "      \n",
              "  <style>\n",
              "    .colab-df-container {\n",
              "      display:flex;\n",
              "      flex-wrap:wrap;\n",
              "      gap: 12px;\n",
              "    }\n",
              "\n",
              "    .colab-df-convert {\n",
              "      background-color: #E8F0FE;\n",
              "      border: none;\n",
              "      border-radius: 50%;\n",
              "      cursor: pointer;\n",
              "      display: none;\n",
              "      fill: #1967D2;\n",
              "      height: 32px;\n",
              "      padding: 0 0 0 0;\n",
              "      width: 32px;\n",
              "    }\n",
              "\n",
              "    .colab-df-convert:hover {\n",
              "      background-color: #E2EBFA;\n",
              "      box-shadow: 0px 1px 2px rgba(60, 64, 67, 0.3), 0px 1px 3px 1px rgba(60, 64, 67, 0.15);\n",
              "      fill: #174EA6;\n",
              "    }\n",
              "\n",
              "    [theme=dark] .colab-df-convert {\n",
              "      background-color: #3B4455;\n",
              "      fill: #D2E3FC;\n",
              "    }\n",
              "\n",
              "    [theme=dark] .colab-df-convert:hover {\n",
              "      background-color: #434B5C;\n",
              "      box-shadow: 0px 1px 3px 1px rgba(0, 0, 0, 0.15);\n",
              "      filter: drop-shadow(0px 1px 2px rgba(0, 0, 0, 0.3));\n",
              "      fill: #FFFFFF;\n",
              "    }\n",
              "  </style>\n",
              "\n",
              "      <script>\n",
              "        const buttonEl =\n",
              "          document.querySelector('#df-35266d8c-7240-4855-9b83-bc36eb406ba1 button.colab-df-convert');\n",
              "        buttonEl.style.display =\n",
              "          google.colab.kernel.accessAllowed ? 'block' : 'none';\n",
              "\n",
              "        async function convertToInteractive(key) {\n",
              "          const element = document.querySelector('#df-35266d8c-7240-4855-9b83-bc36eb406ba1');\n",
              "          const dataTable =\n",
              "            await google.colab.kernel.invokeFunction('convertToInteractive',\n",
              "                                                     [key], {});\n",
              "          if (!dataTable) return;\n",
              "\n",
              "          const docLinkHtml = 'Like what you see? Visit the ' +\n",
              "            '<a target=\"_blank\" href=https://colab.research.google.com/notebooks/data_table.ipynb>data table notebook</a>'\n",
              "            + ' to learn more about interactive tables.';\n",
              "          element.innerHTML = '';\n",
              "          dataTable['output_type'] = 'display_data';\n",
              "          await google.colab.output.renderOutput(dataTable, element);\n",
              "          const docLink = document.createElement('div');\n",
              "          docLink.innerHTML = docLinkHtml;\n",
              "          element.appendChild(docLink);\n",
              "        }\n",
              "      </script>\n",
              "    </div>\n",
              "  </div>\n",
              "  "
            ]
          },
          "metadata": {},
          "execution_count": 11
        }
      ],
      "source": [
        "df.describe()"
      ]
    },
    {
      "cell_type": "markdown",
      "metadata": {
        "id": "b35OdWje9aFB"
      },
      "source": [
        "Most of the columns have values in the binary format (0 or 1 ) with the exception of the Handcap column which has a maximum value of 4, further exploration will uncover whether there are more unique values in the column.\n",
        "Also observed, is a bit of a discrepancy in the age column as there are negative ages included but will be addressed in the data cleaning and prepossessing stage of the analysis."
      ]
    },
    {
      "cell_type": "markdown",
      "metadata": {
        "id": "M9eqSUuL9aFB"
      },
      "source": [
        "<a id = 'quality'></a>\n",
        "### Data Quality Issues.\n",
        "\n",
        "\n",
        "* Spelling error for 'hipertension','handcap'.\n",
        "* Change all column names to lowercase.\n",
        "* Replace all occurrences of '-' with '\\_' to maintain consistency.\n",
        "* Change 'scheduledday' to a datetime object.\n",
        "* Drop the two id columns.\n",
        "* Remove all negative ages in the age column ,visualize to see and eliminate outliers.\n",
        "* Check the metadata for description of the columns, specifically the 'handcap' column and ensure it conforms to the binary standard like the other columns. \n",
        "* Rename the **no_show** column __show__. Reverse the entries, with __no__ == 1(Those who showed up to their appointment) and __yes__ == 0(Those who failed to show up)."
      ]
    },
    {
      "cell_type": "markdown",
      "metadata": {
        "id": "U3VWwcue9aFC"
      },
      "source": [
        "##### Drop the two id columns as they are irrelevant to our analysis."
      ]
    },
    {
      "cell_type": "code",
      "execution_count": null,
      "metadata": {
        "id": "aUQmznu-9aFC",
        "scrolled": true,
        "colab": {
          "base_uri": "https://localhost:8080/",
          "height": 228
        },
        "outputId": "2bd381c2-9f6d-4d72-9c96-be79ef52c714"
      },
      "outputs": [
        {
          "output_type": "execute_result",
          "data": {
            "text/plain": [
              "  Gender          ScheduledDay        AppointmentDay  Age    Neighbourhood  \\\n",
              "0      F  2016-04-29T18:38:08Z  2016-04-29T00:00:00Z   62  JARDIM DA PENHA   \n",
              "1      M  2016-04-29T16:08:27Z  2016-04-29T00:00:00Z   56  JARDIM DA PENHA   \n",
              "\n",
              "   Scholarship  Hipertension  Diabetes  Alcoholism  Handcap  SMS_received  \\\n",
              "0            0             1         0           0        0             0   \n",
              "1            0             0         0           0        0             0   \n",
              "\n",
              "  No-show  \n",
              "0      No  \n",
              "1      No  "
            ],
            "text/html": [
              "\n",
              "  <div id=\"df-775c18b7-0157-4f99-b1f3-fd6589af081f\">\n",
              "    <div class=\"colab-df-container\">\n",
              "      <div>\n",
              "<style scoped>\n",
              "    .dataframe tbody tr th:only-of-type {\n",
              "        vertical-align: middle;\n",
              "    }\n",
              "\n",
              "    .dataframe tbody tr th {\n",
              "        vertical-align: top;\n",
              "    }\n",
              "\n",
              "    .dataframe thead th {\n",
              "        text-align: right;\n",
              "    }\n",
              "</style>\n",
              "<table border=\"1\" class=\"dataframe\">\n",
              "  <thead>\n",
              "    <tr style=\"text-align: right;\">\n",
              "      <th></th>\n",
              "      <th>Gender</th>\n",
              "      <th>ScheduledDay</th>\n",
              "      <th>AppointmentDay</th>\n",
              "      <th>Age</th>\n",
              "      <th>Neighbourhood</th>\n",
              "      <th>Scholarship</th>\n",
              "      <th>Hipertension</th>\n",
              "      <th>Diabetes</th>\n",
              "      <th>Alcoholism</th>\n",
              "      <th>Handcap</th>\n",
              "      <th>SMS_received</th>\n",
              "      <th>No-show</th>\n",
              "    </tr>\n",
              "  </thead>\n",
              "  <tbody>\n",
              "    <tr>\n",
              "      <th>0</th>\n",
              "      <td>F</td>\n",
              "      <td>2016-04-29T18:38:08Z</td>\n",
              "      <td>2016-04-29T00:00:00Z</td>\n",
              "      <td>62</td>\n",
              "      <td>JARDIM DA PENHA</td>\n",
              "      <td>0</td>\n",
              "      <td>1</td>\n",
              "      <td>0</td>\n",
              "      <td>0</td>\n",
              "      <td>0</td>\n",
              "      <td>0</td>\n",
              "      <td>No</td>\n",
              "    </tr>\n",
              "    <tr>\n",
              "      <th>1</th>\n",
              "      <td>M</td>\n",
              "      <td>2016-04-29T16:08:27Z</td>\n",
              "      <td>2016-04-29T00:00:00Z</td>\n",
              "      <td>56</td>\n",
              "      <td>JARDIM DA PENHA</td>\n",
              "      <td>0</td>\n",
              "      <td>0</td>\n",
              "      <td>0</td>\n",
              "      <td>0</td>\n",
              "      <td>0</td>\n",
              "      <td>0</td>\n",
              "      <td>No</td>\n",
              "    </tr>\n",
              "  </tbody>\n",
              "</table>\n",
              "</div>\n",
              "      <button class=\"colab-df-convert\" onclick=\"convertToInteractive('df-775c18b7-0157-4f99-b1f3-fd6589af081f')\"\n",
              "              title=\"Convert this dataframe to an interactive table.\"\n",
              "              style=\"display:none;\">\n",
              "        \n",
              "  <svg xmlns=\"http://www.w3.org/2000/svg\" height=\"24px\"viewBox=\"0 0 24 24\"\n",
              "       width=\"24px\">\n",
              "    <path d=\"M0 0h24v24H0V0z\" fill=\"none\"/>\n",
              "    <path d=\"M18.56 5.44l.94 2.06.94-2.06 2.06-.94-2.06-.94-.94-2.06-.94 2.06-2.06.94zm-11 1L8.5 8.5l.94-2.06 2.06-.94-2.06-.94L8.5 2.5l-.94 2.06-2.06.94zm10 10l.94 2.06.94-2.06 2.06-.94-2.06-.94-.94-2.06-.94 2.06-2.06.94z\"/><path d=\"M17.41 7.96l-1.37-1.37c-.4-.4-.92-.59-1.43-.59-.52 0-1.04.2-1.43.59L10.3 9.45l-7.72 7.72c-.78.78-.78 2.05 0 2.83L4 21.41c.39.39.9.59 1.41.59.51 0 1.02-.2 1.41-.59l7.78-7.78 2.81-2.81c.8-.78.8-2.07 0-2.86zM5.41 20L4 18.59l7.72-7.72 1.47 1.35L5.41 20z\"/>\n",
              "  </svg>\n",
              "      </button>\n",
              "      \n",
              "  <style>\n",
              "    .colab-df-container {\n",
              "      display:flex;\n",
              "      flex-wrap:wrap;\n",
              "      gap: 12px;\n",
              "    }\n",
              "\n",
              "    .colab-df-convert {\n",
              "      background-color: #E8F0FE;\n",
              "      border: none;\n",
              "      border-radius: 50%;\n",
              "      cursor: pointer;\n",
              "      display: none;\n",
              "      fill: #1967D2;\n",
              "      height: 32px;\n",
              "      padding: 0 0 0 0;\n",
              "      width: 32px;\n",
              "    }\n",
              "\n",
              "    .colab-df-convert:hover {\n",
              "      background-color: #E2EBFA;\n",
              "      box-shadow: 0px 1px 2px rgba(60, 64, 67, 0.3), 0px 1px 3px 1px rgba(60, 64, 67, 0.15);\n",
              "      fill: #174EA6;\n",
              "    }\n",
              "\n",
              "    [theme=dark] .colab-df-convert {\n",
              "      background-color: #3B4455;\n",
              "      fill: #D2E3FC;\n",
              "    }\n",
              "\n",
              "    [theme=dark] .colab-df-convert:hover {\n",
              "      background-color: #434B5C;\n",
              "      box-shadow: 0px 1px 3px 1px rgba(0, 0, 0, 0.15);\n",
              "      filter: drop-shadow(0px 1px 2px rgba(0, 0, 0, 0.3));\n",
              "      fill: #FFFFFF;\n",
              "    }\n",
              "  </style>\n",
              "\n",
              "      <script>\n",
              "        const buttonEl =\n",
              "          document.querySelector('#df-775c18b7-0157-4f99-b1f3-fd6589af081f button.colab-df-convert');\n",
              "        buttonEl.style.display =\n",
              "          google.colab.kernel.accessAllowed ? 'block' : 'none';\n",
              "\n",
              "        async function convertToInteractive(key) {\n",
              "          const element = document.querySelector('#df-775c18b7-0157-4f99-b1f3-fd6589af081f');\n",
              "          const dataTable =\n",
              "            await google.colab.kernel.invokeFunction('convertToInteractive',\n",
              "                                                     [key], {});\n",
              "          if (!dataTable) return;\n",
              "\n",
              "          const docLinkHtml = 'Like what you see? Visit the ' +\n",
              "            '<a target=\"_blank\" href=https://colab.research.google.com/notebooks/data_table.ipynb>data table notebook</a>'\n",
              "            + ' to learn more about interactive tables.';\n",
              "          element.innerHTML = '';\n",
              "          dataTable['output_type'] = 'display_data';\n",
              "          await google.colab.output.renderOutput(dataTable, element);\n",
              "          const docLink = document.createElement('div');\n",
              "          docLink.innerHTML = docLinkHtml;\n",
              "          element.appendChild(docLink);\n",
              "        }\n",
              "      </script>\n",
              "    </div>\n",
              "  </div>\n",
              "  "
            ]
          },
          "metadata": {},
          "execution_count": 12
        }
      ],
      "source": [
        "df = df.iloc[:,2:]\n",
        "df.head(2)"
      ]
    },
    {
      "cell_type": "markdown",
      "metadata": {
        "id": "x-fXQBwM9aFC"
      },
      "source": [
        "##### Change all column names to lowercase."
      ]
    },
    {
      "cell_type": "code",
      "execution_count": null,
      "metadata": {
        "id": "LAlcD3LC9aFD"
      },
      "outputs": [],
      "source": [
        "df.rename(columns = {x: x.lower() for x in df.columns},inplace = True)"
      ]
    },
    {
      "cell_type": "markdown",
      "metadata": {
        "id": "PlkLa9rh9aFD"
      },
      "source": [
        "##### Replace all occurrences of '-' with '_' to maintain consistency"
      ]
    },
    {
      "cell_type": "code",
      "execution_count": null,
      "metadata": {
        "id": "6SRnHbP59aFD"
      },
      "outputs": [],
      "source": [
        "df.rename(columns = {x : x.replace('-','_') for x in df.columns},inplace = True)"
      ]
    },
    {
      "cell_type": "markdown",
      "metadata": {
        "id": "j8WTr-oH9aFE"
      },
      "source": [
        "##### Correct Spelling error for 'hipertension','handcap'. Rename the no_show column show. "
      ]
    },
    {
      "cell_type": "code",
      "execution_count": null,
      "metadata": {
        "id": "Vw5rbQpU9aFE"
      },
      "outputs": [],
      "source": [
        "df.rename(columns = {'hipertension':'hypertension','handcap':'handicap','no_show':'show'},inplace = True)"
      ]
    },
    {
      "cell_type": "markdown",
      "metadata": {
        "id": "dqxJvo989aFF"
      },
      "source": [
        "##### Reverse the entries in the show column, with no == 1 and yes == 0."
      ]
    },
    {
      "cell_type": "code",
      "execution_count": null,
      "metadata": {
        "id": "rNfIxTU69aFF"
      },
      "outputs": [],
      "source": [
        "df['show'] = df.show.replace('No',1)\n",
        "df['show'] = df.show.replace('Yes',0)\n",
        "\n"
      ]
    },
    {
      "cell_type": "markdown",
      "metadata": {
        "id": "gy-0165A9aFG"
      },
      "source": [
        "##### Test"
      ]
    },
    {
      "cell_type": "code",
      "execution_count": null,
      "metadata": {
        "id": "6gbmp-8W9aFG",
        "colab": {
          "base_uri": "https://localhost:8080/"
        },
        "outputId": "f94afdc9-daa7-436b-c3a7-20815dce8fe4"
      },
      "outputs": [
        {
          "output_type": "execute_result",
          "data": {
            "text/plain": [
              "1    88208\n",
              "0    22319\n",
              "Name: show, dtype: int64"
            ]
          },
          "metadata": {},
          "execution_count": 17
        }
      ],
      "source": [
        "df.show.value_counts()"
      ]
    },
    {
      "cell_type": "markdown",
      "metadata": {
        "id": "C1XUuxIx9aFG"
      },
      "source": [
        "##### Remove all negative ages in the age column."
      ]
    },
    {
      "cell_type": "code",
      "execution_count": null,
      "metadata": {
        "id": "fOZB7Jcs9aFH"
      },
      "outputs": [],
      "source": [
        "df = df.query('age > 0')"
      ]
    },
    {
      "cell_type": "markdown",
      "metadata": {
        "id": "H-4E8CPd9aFH"
      },
      "source": [
        "##### Test"
      ]
    },
    {
      "cell_type": "code",
      "execution_count": null,
      "metadata": {
        "id": "mOKS4sOT9aFH",
        "colab": {
          "base_uri": "https://localhost:8080/"
        },
        "outputId": "7dc6e7a8-0aec-48cf-cc69-4eb0d976338a"
      },
      "outputs": [
        {
          "output_type": "execute_result",
          "data": {
            "text/plain": [
              "count    106987.000000\n",
              "mean         38.316085\n",
              "std          22.466214\n",
              "min           1.000000\n",
              "25%          19.000000\n",
              "50%          38.000000\n",
              "75%          56.000000\n",
              "max         115.000000\n",
              "Name: age, dtype: float64"
            ]
          },
          "metadata": {},
          "execution_count": 19
        }
      ],
      "source": [
        "df.age.describe()"
      ]
    },
    {
      "cell_type": "markdown",
      "source": [
        "Transform the handicap column to a binary format"
      ],
      "metadata": {
        "id": "kSli7V70kzlr"
      }
    },
    {
      "cell_type": "code",
      "source": [
        "df.handicap.value_counts(normalize = True)*100,df.handicap.value_counts()"
      ],
      "metadata": {
        "colab": {
          "base_uri": "https://localhost:8080/"
        },
        "id": "ofqIHb2lkxAj",
        "outputId": "f4196e54-57b1-4a70-b7fc-6f8e48951af6"
      },
      "execution_count": null,
      "outputs": [
        {
          "output_type": "execute_result",
          "data": {
            "text/plain": [
              "(0    97.906288\n",
              " 1     1.907708\n",
              " 2     0.171049\n",
              " 3     0.012151\n",
              " 4     0.002804\n",
              " Name: handicap, dtype: float64,\n",
              " 0    104747\n",
              " 1      2041\n",
              " 2       183\n",
              " 3        13\n",
              " 4         3\n",
              " Name: handicap, dtype: int64)"
            ]
          },
          "metadata": {},
          "execution_count": 20
        }
      ]
    },
    {
      "cell_type": "markdown",
      "source": [
        "In terms of whether the values other than zero or one represent either zero or one, it would be next to impossible to precisely ascertain the error made. Considering the number of affected rows amounts to less than 1% of the total data, I will remove those rows."
      ],
      "metadata": {
        "id": "qOXu3K_alW7u"
      }
    },
    {
      "cell_type": "code",
      "source": [
        "df = df.query('handicap <=1')"
      ],
      "metadata": {
        "id": "zEZMQlnqlJVa"
      },
      "execution_count": null,
      "outputs": []
    },
    {
      "cell_type": "markdown",
      "source": [
        "Test"
      ],
      "metadata": {
        "id": "uW3zhxKZn6AB"
      }
    },
    {
      "cell_type": "code",
      "source": [
        "df.handicap.nunique()"
      ],
      "metadata": {
        "colab": {
          "base_uri": "https://localhost:8080/"
        },
        "id": "IiVI2KhPn8Yy",
        "outputId": "5855c54d-7cda-4142-ad48-88f474a2526c"
      },
      "execution_count": null,
      "outputs": [
        {
          "output_type": "execute_result",
          "data": {
            "text/plain": [
              "2"
            ]
          },
          "metadata": {},
          "execution_count": 22
        }
      ]
    },
    {
      "cell_type": "code",
      "execution_count": null,
      "metadata": {
        "id": "92owqbys9aFI"
      },
      "outputs": [],
      "source": [
        "df.to_csv('patients_appointments.csv',index = False)"
      ]
    },
    {
      "cell_type": "code",
      "execution_count": null,
      "metadata": {
        "id": "OPlZ7mFe9aFI",
        "scrolled": true,
        "colab": {
          "base_uri": "https://localhost:8080/",
          "height": 162
        },
        "outputId": "7c666140-24b4-4f41-f440-f3fe0886abed"
      },
      "outputs": [
        {
          "output_type": "execute_result",
          "data": {
            "text/plain": [
              "  gender          scheduledday        appointmentday  age    neighbourhood  \\\n",
              "0      F  2016-04-29T18:38:08Z  2016-04-29T00:00:00Z   62  JARDIM DA PENHA   \n",
              "\n",
              "   scholarship  hypertension  diabetes  alcoholism  handicap  sms_received  \\\n",
              "0            0             1         0           0         0             0   \n",
              "\n",
              "   show  \n",
              "0     1  "
            ],
            "text/html": [
              "\n",
              "  <div id=\"df-40164efe-1719-4030-a38e-88133241c0c2\">\n",
              "    <div class=\"colab-df-container\">\n",
              "      <div>\n",
              "<style scoped>\n",
              "    .dataframe tbody tr th:only-of-type {\n",
              "        vertical-align: middle;\n",
              "    }\n",
              "\n",
              "    .dataframe tbody tr th {\n",
              "        vertical-align: top;\n",
              "    }\n",
              "\n",
              "    .dataframe thead th {\n",
              "        text-align: right;\n",
              "    }\n",
              "</style>\n",
              "<table border=\"1\" class=\"dataframe\">\n",
              "  <thead>\n",
              "    <tr style=\"text-align: right;\">\n",
              "      <th></th>\n",
              "      <th>gender</th>\n",
              "      <th>scheduledday</th>\n",
              "      <th>appointmentday</th>\n",
              "      <th>age</th>\n",
              "      <th>neighbourhood</th>\n",
              "      <th>scholarship</th>\n",
              "      <th>hypertension</th>\n",
              "      <th>diabetes</th>\n",
              "      <th>alcoholism</th>\n",
              "      <th>handicap</th>\n",
              "      <th>sms_received</th>\n",
              "      <th>show</th>\n",
              "    </tr>\n",
              "  </thead>\n",
              "  <tbody>\n",
              "    <tr>\n",
              "      <th>0</th>\n",
              "      <td>F</td>\n",
              "      <td>2016-04-29T18:38:08Z</td>\n",
              "      <td>2016-04-29T00:00:00Z</td>\n",
              "      <td>62</td>\n",
              "      <td>JARDIM DA PENHA</td>\n",
              "      <td>0</td>\n",
              "      <td>1</td>\n",
              "      <td>0</td>\n",
              "      <td>0</td>\n",
              "      <td>0</td>\n",
              "      <td>0</td>\n",
              "      <td>1</td>\n",
              "    </tr>\n",
              "  </tbody>\n",
              "</table>\n",
              "</div>\n",
              "      <button class=\"colab-df-convert\" onclick=\"convertToInteractive('df-40164efe-1719-4030-a38e-88133241c0c2')\"\n",
              "              title=\"Convert this dataframe to an interactive table.\"\n",
              "              style=\"display:none;\">\n",
              "        \n",
              "  <svg xmlns=\"http://www.w3.org/2000/svg\" height=\"24px\"viewBox=\"0 0 24 24\"\n",
              "       width=\"24px\">\n",
              "    <path d=\"M0 0h24v24H0V0z\" fill=\"none\"/>\n",
              "    <path d=\"M18.56 5.44l.94 2.06.94-2.06 2.06-.94-2.06-.94-.94-2.06-.94 2.06-2.06.94zm-11 1L8.5 8.5l.94-2.06 2.06-.94-2.06-.94L8.5 2.5l-.94 2.06-2.06.94zm10 10l.94 2.06.94-2.06 2.06-.94-2.06-.94-.94-2.06-.94 2.06-2.06.94z\"/><path d=\"M17.41 7.96l-1.37-1.37c-.4-.4-.92-.59-1.43-.59-.52 0-1.04.2-1.43.59L10.3 9.45l-7.72 7.72c-.78.78-.78 2.05 0 2.83L4 21.41c.39.39.9.59 1.41.59.51 0 1.02-.2 1.41-.59l7.78-7.78 2.81-2.81c.8-.78.8-2.07 0-2.86zM5.41 20L4 18.59l7.72-7.72 1.47 1.35L5.41 20z\"/>\n",
              "  </svg>\n",
              "      </button>\n",
              "      \n",
              "  <style>\n",
              "    .colab-df-container {\n",
              "      display:flex;\n",
              "      flex-wrap:wrap;\n",
              "      gap: 12px;\n",
              "    }\n",
              "\n",
              "    .colab-df-convert {\n",
              "      background-color: #E8F0FE;\n",
              "      border: none;\n",
              "      border-radius: 50%;\n",
              "      cursor: pointer;\n",
              "      display: none;\n",
              "      fill: #1967D2;\n",
              "      height: 32px;\n",
              "      padding: 0 0 0 0;\n",
              "      width: 32px;\n",
              "    }\n",
              "\n",
              "    .colab-df-convert:hover {\n",
              "      background-color: #E2EBFA;\n",
              "      box-shadow: 0px 1px 2px rgba(60, 64, 67, 0.3), 0px 1px 3px 1px rgba(60, 64, 67, 0.15);\n",
              "      fill: #174EA6;\n",
              "    }\n",
              "\n",
              "    [theme=dark] .colab-df-convert {\n",
              "      background-color: #3B4455;\n",
              "      fill: #D2E3FC;\n",
              "    }\n",
              "\n",
              "    [theme=dark] .colab-df-convert:hover {\n",
              "      background-color: #434B5C;\n",
              "      box-shadow: 0px 1px 3px 1px rgba(0, 0, 0, 0.15);\n",
              "      filter: drop-shadow(0px 1px 2px rgba(0, 0, 0, 0.3));\n",
              "      fill: #FFFFFF;\n",
              "    }\n",
              "  </style>\n",
              "\n",
              "      <script>\n",
              "        const buttonEl =\n",
              "          document.querySelector('#df-40164efe-1719-4030-a38e-88133241c0c2 button.colab-df-convert');\n",
              "        buttonEl.style.display =\n",
              "          google.colab.kernel.accessAllowed ? 'block' : 'none';\n",
              "\n",
              "        async function convertToInteractive(key) {\n",
              "          const element = document.querySelector('#df-40164efe-1719-4030-a38e-88133241c0c2');\n",
              "          const dataTable =\n",
              "            await google.colab.kernel.invokeFunction('convertToInteractive',\n",
              "                                                     [key], {});\n",
              "          if (!dataTable) return;\n",
              "\n",
              "          const docLinkHtml = 'Like what you see? Visit the ' +\n",
              "            '<a target=\"_blank\" href=https://colab.research.google.com/notebooks/data_table.ipynb>data table notebook</a>'\n",
              "            + ' to learn more about interactive tables.';\n",
              "          element.innerHTML = '';\n",
              "          dataTable['output_type'] = 'display_data';\n",
              "          await google.colab.output.renderOutput(dataTable, element);\n",
              "          const docLink = document.createElement('div');\n",
              "          docLink.innerHTML = docLinkHtml;\n",
              "          element.appendChild(docLink);\n",
              "        }\n",
              "      </script>\n",
              "    </div>\n",
              "  </div>\n",
              "  "
            ]
          },
          "metadata": {},
          "execution_count": 24
        }
      ],
      "source": [
        "df = pd.read_csv('patients_appointments.csv')\n",
        "df.head(1)"
      ]
    },
    {
      "cell_type": "code",
      "execution_count": null,
      "metadata": {
        "id": "iEnQPdK79aFO"
      },
      "outputs": [],
      "source": [
        "df['show'] = df.show.replace(1,'show')\n",
        "df['show'] = df.show.replace(0,'no_show')"
      ]
    },
    {
      "cell_type": "markdown",
      "source": [
        "Convert appointmentday and scheduledday to datetime objects"
      ],
      "metadata": {
        "id": "9g6rkIPmoY_Q"
      }
    },
    {
      "cell_type": "code",
      "execution_count": null,
      "metadata": {
        "id": "VEpsiguBxWo5"
      },
      "outputs": [],
      "source": [
        "df['appointmentday'] = pd.to_datetime(df['appointmentday'])"
      ]
    },
    {
      "cell_type": "code",
      "execution_count": null,
      "metadata": {
        "id": "DKUf3LGaxkau"
      },
      "outputs": [],
      "source": [
        "df['scheduledday'] = pd.to_datetime(df['scheduledday'])"
      ]
    },
    {
      "cell_type": "markdown",
      "metadata": {
        "id": "0TUgF68t9aFP"
      },
      "source": [
        "<a id='eda'></a>\n",
        "## Exploratory Data Analysis\n",
        "\n",
        "> Here, I examine the trimmed and cleaned dataset, perform statistical calculations, and produce visualizations in an effort to respond to the research questions I'll put forth.\n"
      ]
    },
    {
      "cell_type": "markdown",
      "metadata": {
        "id": "kGYnMdEzMuyf"
      },
      "source": [
        "## Research que 1; Does the time of day have an effect on appointment attendance?"
      ]
    },
    {
      "cell_type": "code",
      "execution_count": null,
      "metadata": {
        "colab": {
          "base_uri": "https://localhost:8080/"
        },
        "id": "Lb1159-54FH_",
        "outputId": "78031436-ef3f-4db8-bd37-6525b9f5af1a"
      },
      "outputs": [
        {
          "output_type": "execute_result",
          "data": {
            "text/plain": [
              "(21, 6)"
            ]
          },
          "metadata": {},
          "execution_count": 28
        }
      ],
      "source": [
        "#maximum and minimum appointment hours to be able to create the groupings\n",
        "df.scheduledday.dt.hour.max(), df.scheduledday.dt.hour.min()"
      ]
    },
    {
      "cell_type": "code",
      "execution_count": null,
      "metadata": {
        "id": "Ae9nj8LCzfSt"
      },
      "outputs": [],
      "source": [
        "#a new column showing the the various hours in the dataset grouped.\n",
        "df['time_of_day'] = pd.cut(df['scheduledday'].dt.hour, [0, 8, 16, 24], labels=['morning', 'afternoon', 'evening'])\n"
      ]
    },
    {
      "cell_type": "code",
      "source": [
        "time = df.groupby(df['time_of_day'])['show'].value_counts().unstack()\n",
        "time"
      ],
      "metadata": {
        "colab": {
          "base_uri": "https://localhost:8080/",
          "height": 174
        },
        "id": "mg74KvQUkgO0",
        "outputId": "89dd56b7-31f2-479d-957b-716e16120457"
      },
      "execution_count": null,
      "outputs": [
        {
          "output_type": "execute_result",
          "data": {
            "text/plain": [
              "show         no_show   show\n",
              "time_of_day                \n",
              "morning         5915  29182\n",
              "afternoon      14587  52334\n",
              "evening         1137   3633"
            ],
            "text/html": [
              "\n",
              "  <div id=\"df-4ded7b8d-8e1f-408b-8f1f-e9271842a406\">\n",
              "    <div class=\"colab-df-container\">\n",
              "      <div>\n",
              "<style scoped>\n",
              "    .dataframe tbody tr th:only-of-type {\n",
              "        vertical-align: middle;\n",
              "    }\n",
              "\n",
              "    .dataframe tbody tr th {\n",
              "        vertical-align: top;\n",
              "    }\n",
              "\n",
              "    .dataframe thead th {\n",
              "        text-align: right;\n",
              "    }\n",
              "</style>\n",
              "<table border=\"1\" class=\"dataframe\">\n",
              "  <thead>\n",
              "    <tr style=\"text-align: right;\">\n",
              "      <th>show</th>\n",
              "      <th>no_show</th>\n",
              "      <th>show</th>\n",
              "    </tr>\n",
              "    <tr>\n",
              "      <th>time_of_day</th>\n",
              "      <th></th>\n",
              "      <th></th>\n",
              "    </tr>\n",
              "  </thead>\n",
              "  <tbody>\n",
              "    <tr>\n",
              "      <th>morning</th>\n",
              "      <td>5915</td>\n",
              "      <td>29182</td>\n",
              "    </tr>\n",
              "    <tr>\n",
              "      <th>afternoon</th>\n",
              "      <td>14587</td>\n",
              "      <td>52334</td>\n",
              "    </tr>\n",
              "    <tr>\n",
              "      <th>evening</th>\n",
              "      <td>1137</td>\n",
              "      <td>3633</td>\n",
              "    </tr>\n",
              "  </tbody>\n",
              "</table>\n",
              "</div>\n",
              "      <button class=\"colab-df-convert\" onclick=\"convertToInteractive('df-4ded7b8d-8e1f-408b-8f1f-e9271842a406')\"\n",
              "              title=\"Convert this dataframe to an interactive table.\"\n",
              "              style=\"display:none;\">\n",
              "        \n",
              "  <svg xmlns=\"http://www.w3.org/2000/svg\" height=\"24px\"viewBox=\"0 0 24 24\"\n",
              "       width=\"24px\">\n",
              "    <path d=\"M0 0h24v24H0V0z\" fill=\"none\"/>\n",
              "    <path d=\"M18.56 5.44l.94 2.06.94-2.06 2.06-.94-2.06-.94-.94-2.06-.94 2.06-2.06.94zm-11 1L8.5 8.5l.94-2.06 2.06-.94-2.06-.94L8.5 2.5l-.94 2.06-2.06.94zm10 10l.94 2.06.94-2.06 2.06-.94-2.06-.94-.94-2.06-.94 2.06-2.06.94z\"/><path d=\"M17.41 7.96l-1.37-1.37c-.4-.4-.92-.59-1.43-.59-.52 0-1.04.2-1.43.59L10.3 9.45l-7.72 7.72c-.78.78-.78 2.05 0 2.83L4 21.41c.39.39.9.59 1.41.59.51 0 1.02-.2 1.41-.59l7.78-7.78 2.81-2.81c.8-.78.8-2.07 0-2.86zM5.41 20L4 18.59l7.72-7.72 1.47 1.35L5.41 20z\"/>\n",
              "  </svg>\n",
              "      </button>\n",
              "      \n",
              "  <style>\n",
              "    .colab-df-container {\n",
              "      display:flex;\n",
              "      flex-wrap:wrap;\n",
              "      gap: 12px;\n",
              "    }\n",
              "\n",
              "    .colab-df-convert {\n",
              "      background-color: #E8F0FE;\n",
              "      border: none;\n",
              "      border-radius: 50%;\n",
              "      cursor: pointer;\n",
              "      display: none;\n",
              "      fill: #1967D2;\n",
              "      height: 32px;\n",
              "      padding: 0 0 0 0;\n",
              "      width: 32px;\n",
              "    }\n",
              "\n",
              "    .colab-df-convert:hover {\n",
              "      background-color: #E2EBFA;\n",
              "      box-shadow: 0px 1px 2px rgba(60, 64, 67, 0.3), 0px 1px 3px 1px rgba(60, 64, 67, 0.15);\n",
              "      fill: #174EA6;\n",
              "    }\n",
              "\n",
              "    [theme=dark] .colab-df-convert {\n",
              "      background-color: #3B4455;\n",
              "      fill: #D2E3FC;\n",
              "    }\n",
              "\n",
              "    [theme=dark] .colab-df-convert:hover {\n",
              "      background-color: #434B5C;\n",
              "      box-shadow: 0px 1px 3px 1px rgba(0, 0, 0, 0.15);\n",
              "      filter: drop-shadow(0px 1px 2px rgba(0, 0, 0, 0.3));\n",
              "      fill: #FFFFFF;\n",
              "    }\n",
              "  </style>\n",
              "\n",
              "      <script>\n",
              "        const buttonEl =\n",
              "          document.querySelector('#df-4ded7b8d-8e1f-408b-8f1f-e9271842a406 button.colab-df-convert');\n",
              "        buttonEl.style.display =\n",
              "          google.colab.kernel.accessAllowed ? 'block' : 'none';\n",
              "\n",
              "        async function convertToInteractive(key) {\n",
              "          const element = document.querySelector('#df-4ded7b8d-8e1f-408b-8f1f-e9271842a406');\n",
              "          const dataTable =\n",
              "            await google.colab.kernel.invokeFunction('convertToInteractive',\n",
              "                                                     [key], {});\n",
              "          if (!dataTable) return;\n",
              "\n",
              "          const docLinkHtml = 'Like what you see? Visit the ' +\n",
              "            '<a target=\"_blank\" href=https://colab.research.google.com/notebooks/data_table.ipynb>data table notebook</a>'\n",
              "            + ' to learn more about interactive tables.';\n",
              "          element.innerHTML = '';\n",
              "          dataTable['output_type'] = 'display_data';\n",
              "          await google.colab.output.renderOutput(dataTable, element);\n",
              "          const docLink = document.createElement('div');\n",
              "          docLink.innerHTML = docLinkHtml;\n",
              "          element.appendChild(docLink);\n",
              "        }\n",
              "      </script>\n",
              "    </div>\n",
              "  </div>\n",
              "  "
            ]
          },
          "metadata": {},
          "execution_count": 30
        }
      ]
    },
    {
      "cell_type": "code",
      "source": [
        "time = (df.groupby(df['time_of_day'])['show'].value_counts(normalize = True)*100).unstack()\n",
        "time"
      ],
      "metadata": {
        "colab": {
          "base_uri": "https://localhost:8080/",
          "height": 174
        },
        "id": "oW0IjG20sYU5",
        "outputId": "f811a374-e5e9-4614-c13d-989c376ea9e3"
      },
      "execution_count": null,
      "outputs": [
        {
          "output_type": "execute_result",
          "data": {
            "text/plain": [
              "show           no_show       show\n",
              "time_of_day                      \n",
              "morning      16.853292  83.146708\n",
              "afternoon    21.797343  78.202657\n",
              "evening      23.836478  76.163522"
            ],
            "text/html": [
              "\n",
              "  <div id=\"df-bfe33539-6293-44bf-ad51-cb2319b10012\">\n",
              "    <div class=\"colab-df-container\">\n",
              "      <div>\n",
              "<style scoped>\n",
              "    .dataframe tbody tr th:only-of-type {\n",
              "        vertical-align: middle;\n",
              "    }\n",
              "\n",
              "    .dataframe tbody tr th {\n",
              "        vertical-align: top;\n",
              "    }\n",
              "\n",
              "    .dataframe thead th {\n",
              "        text-align: right;\n",
              "    }\n",
              "</style>\n",
              "<table border=\"1\" class=\"dataframe\">\n",
              "  <thead>\n",
              "    <tr style=\"text-align: right;\">\n",
              "      <th>show</th>\n",
              "      <th>no_show</th>\n",
              "      <th>show</th>\n",
              "    </tr>\n",
              "    <tr>\n",
              "      <th>time_of_day</th>\n",
              "      <th></th>\n",
              "      <th></th>\n",
              "    </tr>\n",
              "  </thead>\n",
              "  <tbody>\n",
              "    <tr>\n",
              "      <th>morning</th>\n",
              "      <td>16.853292</td>\n",
              "      <td>83.146708</td>\n",
              "    </tr>\n",
              "    <tr>\n",
              "      <th>afternoon</th>\n",
              "      <td>21.797343</td>\n",
              "      <td>78.202657</td>\n",
              "    </tr>\n",
              "    <tr>\n",
              "      <th>evening</th>\n",
              "      <td>23.836478</td>\n",
              "      <td>76.163522</td>\n",
              "    </tr>\n",
              "  </tbody>\n",
              "</table>\n",
              "</div>\n",
              "      <button class=\"colab-df-convert\" onclick=\"convertToInteractive('df-bfe33539-6293-44bf-ad51-cb2319b10012')\"\n",
              "              title=\"Convert this dataframe to an interactive table.\"\n",
              "              style=\"display:none;\">\n",
              "        \n",
              "  <svg xmlns=\"http://www.w3.org/2000/svg\" height=\"24px\"viewBox=\"0 0 24 24\"\n",
              "       width=\"24px\">\n",
              "    <path d=\"M0 0h24v24H0V0z\" fill=\"none\"/>\n",
              "    <path d=\"M18.56 5.44l.94 2.06.94-2.06 2.06-.94-2.06-.94-.94-2.06-.94 2.06-2.06.94zm-11 1L8.5 8.5l.94-2.06 2.06-.94-2.06-.94L8.5 2.5l-.94 2.06-2.06.94zm10 10l.94 2.06.94-2.06 2.06-.94-2.06-.94-.94-2.06-.94 2.06-2.06.94z\"/><path d=\"M17.41 7.96l-1.37-1.37c-.4-.4-.92-.59-1.43-.59-.52 0-1.04.2-1.43.59L10.3 9.45l-7.72 7.72c-.78.78-.78 2.05 0 2.83L4 21.41c.39.39.9.59 1.41.59.51 0 1.02-.2 1.41-.59l7.78-7.78 2.81-2.81c.8-.78.8-2.07 0-2.86zM5.41 20L4 18.59l7.72-7.72 1.47 1.35L5.41 20z\"/>\n",
              "  </svg>\n",
              "      </button>\n",
              "      \n",
              "  <style>\n",
              "    .colab-df-container {\n",
              "      display:flex;\n",
              "      flex-wrap:wrap;\n",
              "      gap: 12px;\n",
              "    }\n",
              "\n",
              "    .colab-df-convert {\n",
              "      background-color: #E8F0FE;\n",
              "      border: none;\n",
              "      border-radius: 50%;\n",
              "      cursor: pointer;\n",
              "      display: none;\n",
              "      fill: #1967D2;\n",
              "      height: 32px;\n",
              "      padding: 0 0 0 0;\n",
              "      width: 32px;\n",
              "    }\n",
              "\n",
              "    .colab-df-convert:hover {\n",
              "      background-color: #E2EBFA;\n",
              "      box-shadow: 0px 1px 2px rgba(60, 64, 67, 0.3), 0px 1px 3px 1px rgba(60, 64, 67, 0.15);\n",
              "      fill: #174EA6;\n",
              "    }\n",
              "\n",
              "    [theme=dark] .colab-df-convert {\n",
              "      background-color: #3B4455;\n",
              "      fill: #D2E3FC;\n",
              "    }\n",
              "\n",
              "    [theme=dark] .colab-df-convert:hover {\n",
              "      background-color: #434B5C;\n",
              "      box-shadow: 0px 1px 3px 1px rgba(0, 0, 0, 0.15);\n",
              "      filter: drop-shadow(0px 1px 2px rgba(0, 0, 0, 0.3));\n",
              "      fill: #FFFFFF;\n",
              "    }\n",
              "  </style>\n",
              "\n",
              "      <script>\n",
              "        const buttonEl =\n",
              "          document.querySelector('#df-bfe33539-6293-44bf-ad51-cb2319b10012 button.colab-df-convert');\n",
              "        buttonEl.style.display =\n",
              "          google.colab.kernel.accessAllowed ? 'block' : 'none';\n",
              "\n",
              "        async function convertToInteractive(key) {\n",
              "          const element = document.querySelector('#df-bfe33539-6293-44bf-ad51-cb2319b10012');\n",
              "          const dataTable =\n",
              "            await google.colab.kernel.invokeFunction('convertToInteractive',\n",
              "                                                     [key], {});\n",
              "          if (!dataTable) return;\n",
              "\n",
              "          const docLinkHtml = 'Like what you see? Visit the ' +\n",
              "            '<a target=\"_blank\" href=https://colab.research.google.com/notebooks/data_table.ipynb>data table notebook</a>'\n",
              "            + ' to learn more about interactive tables.';\n",
              "          element.innerHTML = '';\n",
              "          dataTable['output_type'] = 'display_data';\n",
              "          await google.colab.output.renderOutput(dataTable, element);\n",
              "          const docLink = document.createElement('div');\n",
              "          docLink.innerHTML = docLinkHtml;\n",
              "          element.appendChild(docLink);\n",
              "        }\n",
              "      </script>\n",
              "    </div>\n",
              "  </div>\n",
              "  "
            ]
          },
          "metadata": {},
          "execution_count": 31
        }
      ]
    },
    {
      "cell_type": "code",
      "source": [
        "time.plot(kind = 'bar',figsize = (20,7))\n",
        "plt.xticks(rotation = 0)\n",
        "plt.xlabel('Time of Day')  \n",
        "plt.ylabel('Attendance (%)')  \n",
        "plt.title('Effect of Time of Day on Appointment Attendance');"
      ],
      "metadata": {
        "colab": {
          "base_uri": "https://localhost:8080/",
          "height": 348
        },
        "id": "a5dL3kUCk7u6",
        "outputId": "aa4e9bff-9519-4035-e969-4264847b6fd1"
      },
      "execution_count": null,
      "outputs": [
        {
          "output_type": "display_data",
          "data": {
            "text/plain": [
              "<Figure size 2000x700 with 1 Axes>"
            ],
            "image/png": "[encoded data removed]"
          },
          "metadata": {}
        }
      ]
    },
    {
      "cell_type": "markdown",
      "source": [
        "Evidently, attendance rates increase for appointments booked in the morning and decrease as the day wears on. considering that nighttime appointments had the lowest turnout percentage (76%) of all times.\n",
        "It's significant to observe that appointments are more frequently arranged in the afternoons than in the evenings."
      ],
      "metadata": {
        "id": "M6_486D6pk4H"
      }
    },
    {
      "cell_type": "markdown",
      "source": [
        "### Are there any geographic factors that influence appointment attendance?\n",
        "> According to my intuition, sites with a high volume of planned appointments may see a greater rate of missed appointments since there may be a lengthier wait time, which might deter patients from turning up."
      ],
      "metadata": {
        "id": "RFl__IrO9J8e"
      }
    },
    {
      "cell_type": "code",
      "execution_count": null,
      "metadata": {
        "colab": {
          "base_uri": "https://localhost:8080/"
        },
        "id": "_hAoKB719aFQ",
        "outputId": "08e72fe0-170d-4893-b38e-3b646fc31dbe"
      },
      "outputs": [
        {
          "output_type": "stream",
          "name": "stdout",
          "text": [
            "There are 81 distinct appointment locations in the dataset\n"
          ]
        }
      ],
      "source": [
        "print(f'There are {len(df.neighbourhood.value_counts().tolist())} distinct appointment locations in the dataset')\n",
        "\n"
      ]
    },
    {
      "cell_type": "code",
      "execution_count": null,
      "metadata": {
        "id": "vt_ZUp2W9aFQ"
      },
      "outputs": [],
      "source": [
        "#count of appointments per location\n",
        "neigh_count = df.neighbourhood.value_counts().to_frame()\n",
        "neigh_count.columns = ['total_count']\n",
        "neigh_turnup_pct = (df.groupby('neighbourhood')['show'].value_counts(normalize = True)*100).unstack().round()\n",
        "\n"
      ]
    },
    {
      "cell_type": "markdown",
      "metadata": {
        "id": "I2QUdPgF9aFR"
      },
      "source": [
        "First i grouped by the __neighbourhood__ column and sliced out the __show__ column. Then i did a _value_counts_ on the __show__ column but returned the result as a percentage. The last part was to just unstack and then round the figures returned."
      ]
    },
    {
      "cell_type": "code",
      "execution_count": null,
      "metadata": {
        "id": "qbX9tJm09aFS"
      },
      "outputs": [],
      "source": [
        "#simply merged neigh_count with neigh_turnup_pct\n",
        "neigh = neigh_turnup_pct.merge(neigh_count, left_on= neigh_turnup_pct.index,right_on = neigh_count.index)\n",
        "neigh.rename(columns = {'key_0':'neighbourhood','no_show':'no_show_pct','show':'show_pct'},inplace = True)\n"
      ]
    },
    {
      "cell_type": "code",
      "execution_count": null,
      "metadata": {
        "id": "gHixR0k_9aFS",
        "scrolled": true
      },
      "outputs": [],
      "source": [
        "top_fifteen = neigh.sort_values(['total_count','show_pct'],ascending = False).head(15)\n",
        "top_fifteen.set_index('neighbourhood',inplace = True)\n"
      ]
    },
    {
      "cell_type": "markdown",
      "metadata": {
        "id": "-iFJZD6Q9aFT"
      },
      "source": [
        "Top fifteen location with the most appointments."
      ]
    },
    {
      "cell_type": "code",
      "execution_count": null,
      "metadata": {
        "id": "8c9oCQTH9aFT",
        "scrolled": true
      },
      "outputs": [],
      "source": [
        "bottom_fifteen = neigh.query('total_count >100').sort_values(['total_count'],ascending = True).head(15)\n",
        "bottom_fifteen.sort_values('total_count',ascending = False,inplace = True)\n"
      ]
    },
    {
      "cell_type": "markdown",
      "metadata": {
        "id": "rT15hRRI9aFU"
      },
      "source": [
        "Top fifteen location with the least amount of appointments."
      ]
    },
    {
      "cell_type": "code",
      "execution_count": null,
      "metadata": {
        "colab": {
          "base_uri": "https://localhost:8080/",
          "height": 408
        },
        "id": "tyLydd0S9aFU",
        "outputId": "fbf070fa-af06-4a6c-e583-22ee7b4ff951",
        "scrolled": false
      },
      "outputs": [
        {
          "output_type": "display_data",
          "data": {
            "text/plain": [
              "<Figure size 2000x700 with 2 Axes>"
            ],
            "image/png": "[encoded data removed]"
          },
          "metadata": {}
        }
      ],
      "source": [
        "fig,ax = plt.subplots(1,2,sharey = False)\n",
        "plt.subplots_adjust(hspace = 250000)\n",
        "ticks = [20,50,100,200,500,1000,2000,5000,10000]\n",
        "labels = ['{}'.format(i) for i in ticks]\n",
        "top_fifteen.plot(ax = ax[0],figsize = (20,7),kind = 'bar',stacked = True)\n",
        "ax[0].set_yscale('log')\n",
        "ax[0].set_yticks(ticks)\n",
        "ax[0].set_yticklabels(labels)\n",
        "ax[0].set_title('Total Count vs Turn up Percentage(%) vs Absent Percentage(%) For The Top Fifteen Busiest Locations');\n",
        "\n",
        "\n",
        "ticks = [20,50,100,200,500,1000,2000,5000,10000]\n",
        "labels = ['{}'.format(i) for i in ticks]\n",
        "bottom_fifteen.set_index('neighbourhood').plot(ax = ax[1],figsize = (20,7),kind = 'bar',stacked = True)\n",
        "ax[1].set_yscale('log');\n",
        "ax[1].set_yticks(ticks)\n",
        "ax[1].set_yticklabels(labels)\n",
        "ax[1].set_title('Total Count vs Turn up Percentage(%) vs Absent Percentage(%) For The Fifteen least Busy Locations');\n"
      ]
    },
    {
      "cell_type": "markdown",
      "metadata": {
        "id": "emKAyLHq9aFV"
      },
      "source": [
        "My original hunch about the impact of a high number of appointments on the turn-up rate was incorrect, as demonstrated by a quick glance at the plots above. The turn-up rate is __largely consistent__ _(within the 70%- approximately 90%range)_ regardless of the number of appointments planned at the location, as is seen from the plots generated from the dataset."
      ]
    },
    {
      "cell_type": "markdown",
      "metadata": {
        "id": "oM3yrEXRMcgn"
      },
      "source": [
        "## Research que 2;  What is the impact of patient characteristics (e.g. age, gender, etc.) on appointment attendance?"
      ]
    },
    {
      "cell_type": "code",
      "execution_count": null,
      "metadata": {
        "id": "kP3J5B47nm6Q",
        "colab": {
          "base_uri": "https://localhost:8080/",
          "height": 423
        },
        "outputId": "4dc92954-6553-4c16-8267-27d81f5d027a"
      },
      "outputs": [
        {
          "output_type": "execute_result",
          "data": {
            "text/plain": [
              "        age age_bracket\n",
              "0        62       61-80\n",
              "1        56       41-60\n",
              "2        62       61-80\n",
              "3         8    under 20\n",
              "4        56       41-60\n",
              "...     ...         ...\n",
              "106783   56       41-60\n",
              "106784   51       41-60\n",
              "106785   21     21 - 40\n",
              "106786   38     21 - 40\n",
              "106787   54       41-60\n",
              "\n",
              "[106788 rows x 2 columns]"
            ],
            "text/html": [
              "\n",
              "  <div id=\"df-f0a1fad3-1e8e-48a4-bda6-43735ae34198\">\n",
              "    <div class=\"colab-df-container\">\n",
              "      <div>\n",
              "<style scoped>\n",
              "    .dataframe tbody tr th:only-of-type {\n",
              "        vertical-align: middle;\n",
              "    }\n",
              "\n",
              "    .dataframe tbody tr th {\n",
              "        vertical-align: top;\n",
              "    }\n",
              "\n",
              "    .dataframe thead th {\n",
              "        text-align: right;\n",
              "    }\n",
              "</style>\n",
              "<table border=\"1\" class=\"dataframe\">\n",
              "  <thead>\n",
              "    <tr style=\"text-align: right;\">\n",
              "      <th></th>\n",
              "      <th>age</th>\n",
              "      <th>age_bracket</th>\n",
              "    </tr>\n",
              "  </thead>\n",
              "  <tbody>\n",
              "    <tr>\n",
              "      <th>0</th>\n",
              "      <td>62</td>\n",
              "      <td>61-80</td>\n",
              "    </tr>\n",
              "    <tr>\n",
              "      <th>1</th>\n",
              "      <td>56</td>\n",
              "      <td>41-60</td>\n",
              "    </tr>\n",
              "    <tr>\n",
              "      <th>2</th>\n",
              "      <td>62</td>\n",
              "      <td>61-80</td>\n",
              "    </tr>\n",
              "    <tr>\n",
              "      <th>3</th>\n",
              "      <td>8</td>\n",
              "      <td>under 20</td>\n",
              "    </tr>\n",
              "    <tr>\n",
              "      <th>4</th>\n",
              "      <td>56</td>\n",
              "      <td>41-60</td>\n",
              "    </tr>\n",
              "    <tr>\n",
              "      <th>...</th>\n",
              "      <td>...</td>\n",
              "      <td>...</td>\n",
              "    </tr>\n",
              "    <tr>\n",
              "      <th>106783</th>\n",
              "      <td>56</td>\n",
              "      <td>41-60</td>\n",
              "    </tr>\n",
              "    <tr>\n",
              "      <th>106784</th>\n",
              "      <td>51</td>\n",
              "      <td>41-60</td>\n",
              "    </tr>\n",
              "    <tr>\n",
              "      <th>106785</th>\n",
              "      <td>21</td>\n",
              "      <td>21 - 40</td>\n",
              "    </tr>\n",
              "    <tr>\n",
              "      <th>106786</th>\n",
              "      <td>38</td>\n",
              "      <td>21 - 40</td>\n",
              "    </tr>\n",
              "    <tr>\n",
              "      <th>106787</th>\n",
              "      <td>54</td>\n",
              "      <td>41-60</td>\n",
              "    </tr>\n",
              "  </tbody>\n",
              "</table>\n",
              "<p>106788 rows × 2 columns</p>\n",
              "</div>\n",
              "      <button class=\"colab-df-convert\" onclick=\"convertToInteractive('df-f0a1fad3-1e8e-48a4-bda6-43735ae34198')\"\n",
              "              title=\"Convert this dataframe to an interactive table.\"\n",
              "              style=\"display:none;\">\n",
              "        \n",
              "  <svg xmlns=\"http://www.w3.org/2000/svg\" height=\"24px\"viewBox=\"0 0 24 24\"\n",
              "       width=\"24px\">\n",
              "    <path d=\"M0 0h24v24H0V0z\" fill=\"none\"/>\n",
              "    <path d=\"M18.56 5.44l.94 2.06.94-2.06 2.06-.94-2.06-.94-.94-2.06-.94 2.06-2.06.94zm-11 1L8.5 8.5l.94-2.06 2.06-.94-2.06-.94L8.5 2.5l-.94 2.06-2.06.94zm10 10l.94 2.06.94-2.06 2.06-.94-2.06-.94-.94-2.06-.94 2.06-2.06.94z\"/><path d=\"M17.41 7.96l-1.37-1.37c-.4-.4-.92-.59-1.43-.59-.52 0-1.04.2-1.43.59L10.3 9.45l-7.72 7.72c-.78.78-.78 2.05 0 2.83L4 21.41c.39.39.9.59 1.41.59.51 0 1.02-.2 1.41-.59l7.78-7.78 2.81-2.81c.8-.78.8-2.07 0-2.86zM5.41 20L4 18.59l7.72-7.72 1.47 1.35L5.41 20z\"/>\n",
              "  </svg>\n",
              "      </button>\n",
              "      \n",
              "  <style>\n",
              "    .colab-df-container {\n",
              "      display:flex;\n",
              "      flex-wrap:wrap;\n",
              "      gap: 12px;\n",
              "    }\n",
              "\n",
              "    .colab-df-convert {\n",
              "      background-color: #E8F0FE;\n",
              "      border: none;\n",
              "      border-radius: 50%;\n",
              "      cursor: pointer;\n",
              "      display: none;\n",
              "      fill: #1967D2;\n",
              "      height: 32px;\n",
              "      padding: 0 0 0 0;\n",
              "      width: 32px;\n",
              "    }\n",
              "\n",
              "    .colab-df-convert:hover {\n",
              "      background-color: #E2EBFA;\n",
              "      box-shadow: 0px 1px 2px rgba(60, 64, 67, 0.3), 0px 1px 3px 1px rgba(60, 64, 67, 0.15);\n",
              "      fill: #174EA6;\n",
              "    }\n",
              "\n",
              "    [theme=dark] .colab-df-convert {\n",
              "      background-color: #3B4455;\n",
              "      fill: #D2E3FC;\n",
              "    }\n",
              "\n",
              "    [theme=dark] .colab-df-convert:hover {\n",
              "      background-color: #434B5C;\n",
              "      box-shadow: 0px 1px 3px 1px rgba(0, 0, 0, 0.15);\n",
              "      filter: drop-shadow(0px 1px 2px rgba(0, 0, 0, 0.3));\n",
              "      fill: #FFFFFF;\n",
              "    }\n",
              "  </style>\n",
              "\n",
              "      <script>\n",
              "        const buttonEl =\n",
              "          document.querySelector('#df-f0a1fad3-1e8e-48a4-bda6-43735ae34198 button.colab-df-convert');\n",
              "        buttonEl.style.display =\n",
              "          google.colab.kernel.accessAllowed ? 'block' : 'none';\n",
              "\n",
              "        async function convertToInteractive(key) {\n",
              "          const element = document.querySelector('#df-f0a1fad3-1e8e-48a4-bda6-43735ae34198');\n",
              "          const dataTable =\n",
              "            await google.colab.kernel.invokeFunction('convertToInteractive',\n",
              "                                                     [key], {});\n",
              "          if (!dataTable) return;\n",
              "\n",
              "          const docLinkHtml = 'Like what you see? Visit the ' +\n",
              "            '<a target=\"_blank\" href=https://colab.research.google.com/notebooks/data_table.ipynb>data table notebook</a>'\n",
              "            + ' to learn more about interactive tables.';\n",
              "          element.innerHTML = '';\n",
              "          dataTable['output_type'] = 'display_data';\n",
              "          await google.colab.output.renderOutput(dataTable, element);\n",
              "          const docLink = document.createElement('div');\n",
              "          docLink.innerHTML = docLinkHtml;\n",
              "          element.appendChild(docLink);\n",
              "        }\n",
              "      </script>\n",
              "    </div>\n",
              "  </div>\n",
              "  "
            ]
          },
          "metadata": {},
          "execution_count": 39
        }
      ],
      "source": [
        "df['age_bracket'] = pd.cut(x=df['age'], bins=[1, 20, 40, 60,80, 100,150], labels = ['under 20', '21 - 40', '41-60','61-80','81-100','above 100'])\n",
        "df[['age','age_bracket']]"
      ]
    },
    {
      "cell_type": "code",
      "execution_count": null,
      "metadata": {
        "id": "JElvWhUCMXVH",
        "colab": {
          "base_uri": "https://localhost:8080/",
          "height": 331
        },
        "outputId": "11515cdb-bc15-4661-c7ba-4afad9466e47"
      },
      "outputs": [
        {
          "output_type": "display_data",
          "data": {
            "text/plain": [
              "<Figure size 2000x700 with 2 Axes>"
            ],
            "image/png": "[encoded data removed]"
          },
          "metadata": {}
        }
      ],
      "source": [
        " #visualize the impact of patient characteristics on appointment attendance\n",
        "fig,ax = plt.subplots(1,2,figsize =(20,7))\n",
        "sns.countplot(ax = ax[0],x='gender', hue='show', data=df)  #impact of gender on appointment attendance  \n",
        "sns.countplot(ax = ax[1], x='age_bracket', hue='show', data=df); #impact of age on appointment attendance  "
      ]
    },
    {
      "cell_type": "markdown",
      "metadata": {
        "id": "qIXbCkn_9aFV"
      },
      "source": [
        "There are more females than males in the dataset, according to the metadata as well as the gender graph above, possibly because women are more aware of and deliberate about their health. It is crucial for the predictive analysis I'll conduct that I investigate this phenomenon and attempt to determine how big of an impact this bias might have on the conclusions reached from any investigation.\n"
      ]
    },
    {
      "cell_type": "code",
      "execution_count": null,
      "metadata": {
        "id": "ONKSBLj29aFW"
      },
      "outputs": [],
      "source": [
        "female = df.query('gender == \"F\" ')\n",
        "male = df.query('gender == \"M\" ')"
      ]
    },
    {
      "cell_type": "markdown",
      "metadata": {
        "id": "FirEdijb9aFW"
      },
      "source": [
        "Simply classify the dataset into two distinct sections (male and female)."
      ]
    },
    {
      "cell_type": "code",
      "execution_count": null,
      "metadata": {
        "id": "AqULxq4F9aFW"
      },
      "outputs": [],
      "source": [
        "n_data = df.shape[0]\n",
        "max_gender = df.gender.value_counts()[0]\n",
        "max_gen = max_gender/n_data \n",
        "tick_gen = np.arange(0,max_gen+0.3,0.3)\n",
        "tick_names = ['{:0.2f}'.format(i) for i in (tick_gen*n_data)] \n",
        "max_g = df.gender.value_counts()\n",
        "\n",
        "\n"
      ]
    },
    {
      "cell_type": "code",
      "execution_count": null,
      "metadata": {
        "colab": {
          "base_uri": "https://localhost:8080/",
          "height": 481
        },
        "id": "ltSz9g6y9aFY",
        "outputId": "59f8cd9e-e739-49fc-d99f-4edd5e14582e",
        "scrolled": false
      },
      "outputs": [
        {
          "output_type": "display_data",
          "data": {
            "text/plain": [
              "<Figure size 1000x500 with 1 Axes>"
            ],
            "image/png": "[encoded data removed]"
          },
          "metadata": {}
        }
      ],
      "source": [
        "plt.figure(figsize =(10,5))\n",
        "sns.countplot(data = df, y = 'gender',color = sns.color_palette()[0])\n",
        "plt.xticks(tick_gen*n_data,tick_names)\n",
        "plt.title('Gender Distribution')\n",
        "for i in range(max_g.shape[0]):\n",
        "    count = max_g[i]\n",
        "    pct_string = '{:0.1f}%'.format(100*count/n_data)\n",
        "    plt.text(count +1, i,pct_string, va = 'center');\n",
        "\n",
        "\n"
      ]
    },
    {
      "cell_type": "markdown",
      "metadata": {
        "id": "IPO51u-W9aFY"
      },
      "source": [
        "Apparently, there are nearly twice as much females as males. neax would be to explore how this gender size difference filters down to the various locatiopns in the dataset."
      ]
    },
    {
      "cell_type": "markdown",
      "metadata": {
        "id": "DGSgYUsR9aFY"
      },
      "source": [
        "### Exploring how the gender size difference filters down to the various locations."
      ]
    },
    {
      "cell_type": "code",
      "execution_count": null,
      "metadata": {
        "id": "wwDXi83z9aFZ"
      },
      "outputs": [],
      "source": [
        "#This returns the different neighborhoods in the dataset alongside the corresponding number of females assigned for an appointment in that neighborhood.\n",
        "fem_nei = female.neighbourhood.value_counts().to_frame()\n",
        "fem_nei.columns = ['female_count']\n"
      ]
    },
    {
      "cell_type": "code",
      "execution_count": null,
      "metadata": {
        "id": "937rfvfs9aFZ",
        "scrolled": false
      },
      "outputs": [],
      "source": [
        "#This returns the different neighborhoods in the dataset alongside the corresponding number of males assigned for an appointment in that neighborhood.\n",
        "male_nei = male.neighbourhood.value_counts().to_frame()\n",
        "male_nei.columns = ['male_count']   \n",
        "                                                    \n",
        "                                                    "
      ]
    },
    {
      "cell_type": "code",
      "execution_count": null,
      "metadata": {
        "id": "nEcO4uxR9aFZ"
      },
      "outputs": [],
      "source": [
        "#The two datasets, __female_nei__ and __male_nei__, are merged into __fem_male__. \n",
        "fem_male = fem_nei.merge(male_nei, how = 'outer',left_on = fem_nei.index,right_on = male_nei.index)\n",
        "fem_male.rename(columns ={'key_0':'neighbourhood'},inplace = True)\n",
        "fem_male.set_index('neighbourhood',inplace = True)\n"
      ]
    },
    {
      "cell_type": "code",
      "execution_count": null,
      "metadata": {
        "id": "RoahEORb9aFa"
      },
      "outputs": [],
      "source": [
        "#Sorting the data in descending order using the female_count and male_count columns. \n",
        "fem_male.sort_values(['female_count','male_count'], ascending= False,inplace = True)\n",
        "\n"
      ]
    },
    {
      "cell_type": "code",
      "execution_count": null,
      "metadata": {
        "colab": {
          "base_uri": "https://localhost:8080/",
          "height": 487
        },
        "id": "qsYjqiR79aFa",
        "outputId": "fe46593a-3f30-4cf7-bef1-2e553e14fb88",
        "scrolled": false
      },
      "outputs": [
        {
          "output_type": "display_data",
          "data": {
            "text/plain": [
              "<Figure size 1500x500 with 2 Axes>"
            ],
            "image/png": "[encoded data removed]"
          },
          "metadata": {}
        }
      ],
      "source": [
        "fig,ax = plt.subplots(1,2)\n",
        "fem_male.head(10).plot(ax = ax[0],figsize = (15,5), kind='bar',title = 'Number of Appointments per neighborhood (top 10)',ylabel = 'count')\n",
        "\n",
        "fem_male.tail(10).plot(ax = ax[1],figsize = (15,5),kind='bar',title = 'Number of Appointments per neighborhood (Bottom 10)',ylabel = 'count');\n",
        "\n",
        "\n"
      ]
    },
    {
      "cell_type": "markdown",
      "metadata": {
        "id": "AyOB4Dzv9aFb"
      },
      "source": [
        "Represented on the bar chart is the top ten as well as the bottom 10 neighborhoods with the most and least number of females and males assigned there for an appointment ,respectively. As a result of there being more females than males in the dataset overall, the same status quo filters down to the individual locations."
      ]
    },
    {
      "cell_type": "code",
      "execution_count": null,
      "metadata": {
        "id": "UBJmw1gH9aFb"
      },
      "outputs": [],
      "source": [
        "fem_male['female_percent'] = round((fem_male.female_count/(fem_male.female_count + fem_male.male_count))*100,2)\n",
        "fem_male['male_percent'] = round((fem_male.male_count/(fem_male.female_count + fem_male.male_count))*100,2)\n",
        "\n",
        "\n",
        "'''First, I groupby neighborhood column and then index the __show__ and then unstack all. \n",
        "This essentially returns the various locations alonside the corresponding number of females \n",
        "that showed up and did not show up for the scheduled appointment in that location.'''\n",
        "fe = female.groupby('neighbourhood')['show'].value_counts().unstack()\n"
      ]
    },
    {
      "cell_type": "code",
      "execution_count": null,
      "metadata": {
        "id": "MeJzNrtY9aFc"
      },
      "outputs": [],
      "source": [
        "'''First, I groupby neighborhood column and then index the __show__ and then unstack all. \n",
        "This essentially returns the various locations alonside the corresponding number of males\n",
        " that showed up and did not show up for the scheduled appointment in that location.''' \n",
        "mal= male.groupby('neighbourhood')['show'].value_counts().unstack()"
      ]
    },
    {
      "cell_type": "code",
      "execution_count": null,
      "metadata": {
        "id": "EzZnu_rP9aFc"
      },
      "outputs": [],
      "source": [
        "# fe and mal are both merged into __gef__\n",
        "gef = fe.merge(mal, left_on = fe.index, right_on = mal.index)"
      ]
    },
    {
      "cell_type": "code",
      "execution_count": null,
      "metadata": {
        "id": "RiMkmk3_9aFd"
      },
      "outputs": [],
      "source": [
        "#Replace the non-descriptive columns with more descriptive ones.\n",
        "gef.rename(columns = {'key_0':'neighbourhood','no_show_x':'female(no_show)','show_x':'female(show)','no_show_y':'male(no_show)','show_y':'male(show)'},inplace = True)\n",
        "\n"
      ]
    },
    {
      "cell_type": "code",
      "execution_count": null,
      "metadata": {
        "id": "ChoZGkY_9aFd"
      },
      "outputs": [],
      "source": [
        "# set the neighborhood column as the index.\n",
        "gef.set_index('neighbourhood',inplace = True)"
      ]
    },
    {
      "cell_type": "code",
      "execution_count": null,
      "metadata": {
        "id": "QvzkdT-eFKoC"
      },
      "outputs": [],
      "source": [
        "gef.fillna(0,inplace = True)"
      ]
    },
    {
      "cell_type": "code",
      "execution_count": null,
      "metadata": {
        "id": "nuMeP4Ag9aFe"
      },
      "outputs": [],
      "source": [
        "#To get a better understanding, a new column __female_show_pct__ shows the percentage of females that showed up at their various assigned location. \n",
        "gef['female_show_pct'] = round((gef['female(show)']/(gef['female(show)'] + gef['female(no_show)']))*100,2)"
      ]
    },
    {
      "cell_type": "code",
      "execution_count": null,
      "metadata": {
        "id": "976VW6nN9aFe"
      },
      "outputs": [],
      "source": [
        "#To get a better understanding, a new column __male_show_pct__ shows the percentage of males that showed up at their various assigned location.  \n",
        "gef['male_show_pct'] = round((gef['male(show)']/(gef['male(show)'] + gef['male(no_show)']))*100,2)"
      ]
    },
    {
      "cell_type": "code",
      "execution_count": null,
      "metadata": {
        "id": "xuJUfoUp9aFf"
      },
      "outputs": [],
      "source": [
        "'''This is simply a check to confirm that everything thing remains correct. \n",
        "I've merged __gef__ with __neigh_count__,which was created earlier, to confirm the totals.''' \n",
        "gef = gef.merge(neigh_count, left_on = gef.index, right_on = neigh_count.index)\n",
        "gef.rename(columns = {'key_0':'neighbourhood'},inplace = True)\n",
        "gef.set_index('neighbourhood',inplace = True)\n"
      ]
    },
    {
      "cell_type": "code",
      "execution_count": null,
      "metadata": {
        "colab": {
          "base_uri": "https://localhost:8080/",
          "height": 602
        },
        "id": "wzuOVsRq9aFi",
        "outputId": "d0171356-3d4c-4e6d-cfbb-c5692b7ddf95",
        "scrolled": false
      },
      "outputs": [
        {
          "output_type": "display_data",
          "data": {
            "text/plain": [
              "<Figure size 640x480 with 1 Axes>"
            ],
            "image/png": "[encoded data removed]"
          },
          "metadata": {}
        }
      ],
      "source": [
        "gef.sort_values('total_count',ascending= False, inplace = True) #Sort __gef__ in descending order using the __total__ column. \n",
        "gef.head(10)[['female(show)','female(no_show)','male(show)','male(no_show)']].plot(kind = 'bar', title = 'Turn up rate(Top ten neighborhoods');\n",
        "\n"
      ]
    },
    {
      "cell_type": "markdown",
      "metadata": {
        "id": "kVt52ISW9aFi"
      },
      "source": [
        "### Male vs Female Turn Up Rate.\n",
        "> Are the men in the dataset more likely, on average, to show up for an appointment than women, in any given location?"
      ]
    },
    {
      "cell_type": "code",
      "source": [
        "gef.head(2)"
      ],
      "metadata": {
        "colab": {
          "base_uri": "https://localhost:8080/",
          "height": 224
        },
        "id": "nub7nYcIyx54",
        "outputId": "2f608b9e-c9f1-45fa-d209-550f21c1b0b7"
      },
      "execution_count": null,
      "outputs": [
        {
          "output_type": "execute_result",
          "data": {
            "text/plain": [
              "                female(no_show)  female(show)  male(no_show)  male(show)  \\\n",
              "neighbourhood                                                              \n",
              "JARDIM CAMBURI            979.0        4095.0          453.0      2059.0   \n",
              "MARIA ORTIZ               786.0        2830.0          408.0      1539.0   \n",
              "\n",
              "                female_show_pct  male_show_pct  total_count  \n",
              "neighbourhood                                                \n",
              "JARDIM CAMBURI            80.71          81.97         7586  \n",
              "MARIA ORTIZ               78.26          79.04         5563  "
            ],
            "text/html": [
              "\n",
              "  <div id=\"df-1b52b5e5-54e2-4e7b-b93d-60125b4502bc\">\n",
              "    <div class=\"colab-df-container\">\n",
              "      <div>\n",
              "<style scoped>\n",
              "    .dataframe tbody tr th:only-of-type {\n",
              "        vertical-align: middle;\n",
              "    }\n",
              "\n",
              "    .dataframe tbody tr th {\n",
              "        vertical-align: top;\n",
              "    }\n",
              "\n",
              "    .dataframe thead th {\n",
              "        text-align: right;\n",
              "    }\n",
              "</style>\n",
              "<table border=\"1\" class=\"dataframe\">\n",
              "  <thead>\n",
              "    <tr style=\"text-align: right;\">\n",
              "      <th></th>\n",
              "      <th>female(no_show)</th>\n",
              "      <th>female(show)</th>\n",
              "      <th>male(no_show)</th>\n",
              "      <th>male(show)</th>\n",
              "      <th>female_show_pct</th>\n",
              "      <th>male_show_pct</th>\n",
              "      <th>total_count</th>\n",
              "    </tr>\n",
              "    <tr>\n",
              "      <th>neighbourhood</th>\n",
              "      <th></th>\n",
              "      <th></th>\n",
              "      <th></th>\n",
              "      <th></th>\n",
              "      <th></th>\n",
              "      <th></th>\n",
              "      <th></th>\n",
              "    </tr>\n",
              "  </thead>\n",
              "  <tbody>\n",
              "    <tr>\n",
              "      <th>JARDIM CAMBURI</th>\n",
              "      <td>979.0</td>\n",
              "      <td>4095.0</td>\n",
              "      <td>453.0</td>\n",
              "      <td>2059.0</td>\n",
              "      <td>80.71</td>\n",
              "      <td>81.97</td>\n",
              "      <td>7586</td>\n",
              "    </tr>\n",
              "    <tr>\n",
              "      <th>MARIA ORTIZ</th>\n",
              "      <td>786.0</td>\n",
              "      <td>2830.0</td>\n",
              "      <td>408.0</td>\n",
              "      <td>1539.0</td>\n",
              "      <td>78.26</td>\n",
              "      <td>79.04</td>\n",
              "      <td>5563</td>\n",
              "    </tr>\n",
              "  </tbody>\n",
              "</table>\n",
              "</div>\n",
              "      <button class=\"colab-df-convert\" onclick=\"convertToInteractive('df-1b52b5e5-54e2-4e7b-b93d-60125b4502bc')\"\n",
              "              title=\"Convert this dataframe to an interactive table.\"\n",
              "              style=\"display:none;\">\n",
              "        \n",
              "  <svg xmlns=\"http://www.w3.org/2000/svg\" height=\"24px\"viewBox=\"0 0 24 24\"\n",
              "       width=\"24px\">\n",
              "    <path d=\"M0 0h24v24H0V0z\" fill=\"none\"/>\n",
              "    <path d=\"M18.56 5.44l.94 2.06.94-2.06 2.06-.94-2.06-.94-.94-2.06-.94 2.06-2.06.94zm-11 1L8.5 8.5l.94-2.06 2.06-.94-2.06-.94L8.5 2.5l-.94 2.06-2.06.94zm10 10l.94 2.06.94-2.06 2.06-.94-2.06-.94-.94-2.06-.94 2.06-2.06.94z\"/><path d=\"M17.41 7.96l-1.37-1.37c-.4-.4-.92-.59-1.43-.59-.52 0-1.04.2-1.43.59L10.3 9.45l-7.72 7.72c-.78.78-.78 2.05 0 2.83L4 21.41c.39.39.9.59 1.41.59.51 0 1.02-.2 1.41-.59l7.78-7.78 2.81-2.81c.8-.78.8-2.07 0-2.86zM5.41 20L4 18.59l7.72-7.72 1.47 1.35L5.41 20z\"/>\n",
              "  </svg>\n",
              "      </button>\n",
              "      \n",
              "  <style>\n",
              "    .colab-df-container {\n",
              "      display:flex;\n",
              "      flex-wrap:wrap;\n",
              "      gap: 12px;\n",
              "    }\n",
              "\n",
              "    .colab-df-convert {\n",
              "      background-color: #E8F0FE;\n",
              "      border: none;\n",
              "      border-radius: 50%;\n",
              "      cursor: pointer;\n",
              "      display: none;\n",
              "      fill: #1967D2;\n",
              "      height: 32px;\n",
              "      padding: 0 0 0 0;\n",
              "      width: 32px;\n",
              "    }\n",
              "\n",
              "    .colab-df-convert:hover {\n",
              "      background-color: #E2EBFA;\n",
              "      box-shadow: 0px 1px 2px rgba(60, 64, 67, 0.3), 0px 1px 3px 1px rgba(60, 64, 67, 0.15);\n",
              "      fill: #174EA6;\n",
              "    }\n",
              "\n",
              "    [theme=dark] .colab-df-convert {\n",
              "      background-color: #3B4455;\n",
              "      fill: #D2E3FC;\n",
              "    }\n",
              "\n",
              "    [theme=dark] .colab-df-convert:hover {\n",
              "      background-color: #434B5C;\n",
              "      box-shadow: 0px 1px 3px 1px rgba(0, 0, 0, 0.15);\n",
              "      filter: drop-shadow(0px 1px 2px rgba(0, 0, 0, 0.3));\n",
              "      fill: #FFFFFF;\n",
              "    }\n",
              "  </style>\n",
              "\n",
              "      <script>\n",
              "        const buttonEl =\n",
              "          document.querySelector('#df-1b52b5e5-54e2-4e7b-b93d-60125b4502bc button.colab-df-convert');\n",
              "        buttonEl.style.display =\n",
              "          google.colab.kernel.accessAllowed ? 'block' : 'none';\n",
              "\n",
              "        async function convertToInteractive(key) {\n",
              "          const element = document.querySelector('#df-1b52b5e5-54e2-4e7b-b93d-60125b4502bc');\n",
              "          const dataTable =\n",
              "            await google.colab.kernel.invokeFunction('convertToInteractive',\n",
              "                                                     [key], {});\n",
              "          if (!dataTable) return;\n",
              "\n",
              "          const docLinkHtml = 'Like what you see? Visit the ' +\n",
              "            '<a target=\"_blank\" href=https://colab.research.google.com/notebooks/data_table.ipynb>data table notebook</a>'\n",
              "            + ' to learn more about interactive tables.';\n",
              "          element.innerHTML = '';\n",
              "          dataTable['output_type'] = 'display_data';\n",
              "          await google.colab.output.renderOutput(dataTable, element);\n",
              "          const docLink = document.createElement('div');\n",
              "          docLink.innerHTML = docLinkHtml;\n",
              "          element.appendChild(docLink);\n",
              "        }\n",
              "      </script>\n",
              "    </div>\n",
              "  </div>\n",
              "  "
            ]
          },
          "metadata": {},
          "execution_count": 59
        }
      ]
    },
    {
      "cell_type": "markdown",
      "source": [
        "We have the proportion of patients who showed up for appointments at each site thanks to the earlier-created __gef__. We can basically see the distribution of attendance for each location by plotting that as a histogram."
      ],
      "metadata": {
        "id": "R5jITtatzZH9"
      }
    },
    {
      "cell_type": "code",
      "execution_count": null,
      "metadata": {
        "colab": {
          "base_uri": "https://localhost:8080/",
          "height": 430
        },
        "id": "Bf62WmBE9aFi",
        "outputId": "b48ecaef-74ad-4f5f-9212-2fd3a28e7ff7"
      },
      "outputs": [
        {
          "output_type": "display_data",
          "data": {
            "text/plain": [
              "<Figure size 640x480 with 1 Axes>"
            ],
            "image/png": "[encoded data removed]"
          },
          "metadata": {}
        }
      ],
      "source": [
        "gef['female_show_pct'].hist();"
      ]
    },
    {
      "cell_type": "markdown",
      "metadata": {
        "id": "GZac0kv69aFj"
      },
      "source": [
        "The __female show pct__, which displays the proportion of women who attended their appointments, is plotted on the histogram. At least 70% of female patients consistently show up for their appointments at their various sites, which is a fairly positive turn-out rate."
      ]
    },
    {
      "cell_type": "code",
      "execution_count": null,
      "metadata": {
        "colab": {
          "base_uri": "https://localhost:8080/",
          "height": 430
        },
        "id": "mn-08poy9aFj",
        "outputId": "414a61ba-5ddb-4e22-d7e2-dac143c83fe1",
        "scrolled": true
      },
      "outputs": [
        {
          "output_type": "display_data",
          "data": {
            "text/plain": [
              "<Figure size 640x480 with 1 Axes>"
            ],
            "image/png": "[encoded data removed]"
          },
          "metadata": {}
        }
      ],
      "source": [
        "gef['male_show_pct'].hist();"
      ]
    },
    {
      "cell_type": "markdown",
      "metadata": {
        "id": "y69CkPFm9aFj"
      },
      "source": [
        "The __male show pct__, which displays the proportion of men who attended their appointments, is plotted on the histogram. At least 65% of the male patients consistently show up for their appointments at the various locations, which is a fairly good turn-out percentage."
      ]
    },
    {
      "cell_type": "markdown",
      "metadata": {
        "id": "lwDRO3Xb9aFl"
      },
      "source": [
        "### Research Question 2  Does the presence of a health condition affect appointment attendance rates?"
      ]
    },
    {
      "cell_type": "markdown",
      "source": [
        "First we try to answer the question for patients with hypertension."
      ],
      "metadata": {
        "id": "KkHXXB5K3GV3"
      }
    },
    {
      "cell_type": "code",
      "execution_count": null,
      "metadata": {
        "colab": {
          "base_uri": "https://localhost:8080/",
          "height": 210
        },
        "id": "cBL7CCZH9aFl",
        "outputId": "c1a402fb-57a4-4529-ea70-dadf4423d947",
        "scrolled": false
      },
      "outputs": [
        {
          "output_type": "execute_result",
          "data": {
            "text/plain": [
              "  gender              scheduledday            appointmentday  age  \\\n",
              "0      F 2016-04-29 18:38:08+00:00 2016-04-29 00:00:00+00:00   62   \n",
              "4      F 2016-04-29 16:07:23+00:00 2016-04-29 00:00:00+00:00   56   \n",
              "\n",
              "     neighbourhood  scholarship  hypertension  diabetes  alcoholism  handicap  \\\n",
              "0  JARDIM DA PENHA            0             1         0           0         0   \n",
              "4  JARDIM DA PENHA            0             1         1           0         0   \n",
              "\n",
              "   sms_received  show time_of_day age_bracket  \n",
              "0             0  show     evening       61-80  \n",
              "4             0  show   afternoon       41-60  "
            ],
            "text/html": [
              "\n",
              "  <div id=\"df-3dc6cf70-7337-4a92-bd44-8d315b3427c4\">\n",
              "    <div class=\"colab-df-container\">\n",
              "      <div>\n",
              "<style scoped>\n",
              "    .dataframe tbody tr th:only-of-type {\n",
              "        vertical-align: middle;\n",
              "    }\n",
              "\n",
              "    .dataframe tbody tr th {\n",
              "        vertical-align: top;\n",
              "    }\n",
              "\n",
              "    .dataframe thead th {\n",
              "        text-align: right;\n",
              "    }\n",
              "</style>\n",
              "<table border=\"1\" class=\"dataframe\">\n",
              "  <thead>\n",
              "    <tr style=\"text-align: right;\">\n",
              "      <th></th>\n",
              "      <th>gender</th>\n",
              "      <th>scheduledday</th>\n",
              "      <th>appointmentday</th>\n",
              "      <th>age</th>\n",
              "      <th>neighbourhood</th>\n",
              "      <th>scholarship</th>\n",
              "      <th>hypertension</th>\n",
              "      <th>diabetes</th>\n",
              "      <th>alcoholism</th>\n",
              "      <th>handicap</th>\n",
              "      <th>sms_received</th>\n",
              "      <th>show</th>\n",
              "      <th>time_of_day</th>\n",
              "      <th>age_bracket</th>\n",
              "    </tr>\n",
              "  </thead>\n",
              "  <tbody>\n",
              "    <tr>\n",
              "      <th>0</th>\n",
              "      <td>F</td>\n",
              "      <td>2016-04-29 18:38:08+00:00</td>\n",
              "      <td>2016-04-29 00:00:00+00:00</td>\n",
              "      <td>62</td>\n",
              "      <td>JARDIM DA PENHA</td>\n",
              "      <td>0</td>\n",
              "      <td>1</td>\n",
              "      <td>0</td>\n",
              "      <td>0</td>\n",
              "      <td>0</td>\n",
              "      <td>0</td>\n",
              "      <td>show</td>\n",
              "      <td>evening</td>\n",
              "      <td>61-80</td>\n",
              "    </tr>\n",
              "    <tr>\n",
              "      <th>4</th>\n",
              "      <td>F</td>\n",
              "      <td>2016-04-29 16:07:23+00:00</td>\n",
              "      <td>2016-04-29 00:00:00+00:00</td>\n",
              "      <td>56</td>\n",
              "      <td>JARDIM DA PENHA</td>\n",
              "      <td>0</td>\n",
              "      <td>1</td>\n",
              "      <td>1</td>\n",
              "      <td>0</td>\n",
              "      <td>0</td>\n",
              "      <td>0</td>\n",
              "      <td>show</td>\n",
              "      <td>afternoon</td>\n",
              "      <td>41-60</td>\n",
              "    </tr>\n",
              "  </tbody>\n",
              "</table>\n",
              "</div>\n",
              "      <button class=\"colab-df-convert\" onclick=\"convertToInteractive('df-3dc6cf70-7337-4a92-bd44-8d315b3427c4')\"\n",
              "              title=\"Convert this dataframe to an interactive table.\"\n",
              "              style=\"display:none;\">\n",
              "        \n",
              "  <svg xmlns=\"http://www.w3.org/2000/svg\" height=\"24px\"viewBox=\"0 0 24 24\"\n",
              "       width=\"24px\">\n",
              "    <path d=\"M0 0h24v24H0V0z\" fill=\"none\"/>\n",
              "    <path d=\"M18.56 5.44l.94 2.06.94-2.06 2.06-.94-2.06-.94-.94-2.06-.94 2.06-2.06.94zm-11 1L8.5 8.5l.94-2.06 2.06-.94-2.06-.94L8.5 2.5l-.94 2.06-2.06.94zm10 10l.94 2.06.94-2.06 2.06-.94-2.06-.94-.94-2.06-.94 2.06-2.06.94z\"/><path d=\"M17.41 7.96l-1.37-1.37c-.4-.4-.92-.59-1.43-.59-.52 0-1.04.2-1.43.59L10.3 9.45l-7.72 7.72c-.78.78-.78 2.05 0 2.83L4 21.41c.39.39.9.59 1.41.59.51 0 1.02-.2 1.41-.59l7.78-7.78 2.81-2.81c.8-.78.8-2.07 0-2.86zM5.41 20L4 18.59l7.72-7.72 1.47 1.35L5.41 20z\"/>\n",
              "  </svg>\n",
              "      </button>\n",
              "      \n",
              "  <style>\n",
              "    .colab-df-container {\n",
              "      display:flex;\n",
              "      flex-wrap:wrap;\n",
              "      gap: 12px;\n",
              "    }\n",
              "\n",
              "    .colab-df-convert {\n",
              "      background-color: #E8F0FE;\n",
              "      border: none;\n",
              "      border-radius: 50%;\n",
              "      cursor: pointer;\n",
              "      display: none;\n",
              "      fill: #1967D2;\n",
              "      height: 32px;\n",
              "      padding: 0 0 0 0;\n",
              "      width: 32px;\n",
              "    }\n",
              "\n",
              "    .colab-df-convert:hover {\n",
              "      background-color: #E2EBFA;\n",
              "      box-shadow: 0px 1px 2px rgba(60, 64, 67, 0.3), 0px 1px 3px 1px rgba(60, 64, 67, 0.15);\n",
              "      fill: #174EA6;\n",
              "    }\n",
              "\n",
              "    [theme=dark] .colab-df-convert {\n",
              "      background-color: #3B4455;\n",
              "      fill: #D2E3FC;\n",
              "    }\n",
              "\n",
              "    [theme=dark] .colab-df-convert:hover {\n",
              "      background-color: #434B5C;\n",
              "      box-shadow: 0px 1px 3px 1px rgba(0, 0, 0, 0.15);\n",
              "      filter: drop-shadow(0px 1px 2px rgba(0, 0, 0, 0.3));\n",
              "      fill: #FFFFFF;\n",
              "    }\n",
              "  </style>\n",
              "\n",
              "      <script>\n",
              "        const buttonEl =\n",
              "          document.querySelector('#df-3dc6cf70-7337-4a92-bd44-8d315b3427c4 button.colab-df-convert');\n",
              "        buttonEl.style.display =\n",
              "          google.colab.kernel.accessAllowed ? 'block' : 'none';\n",
              "\n",
              "        async function convertToInteractive(key) {\n",
              "          const element = document.querySelector('#df-3dc6cf70-7337-4a92-bd44-8d315b3427c4');\n",
              "          const dataTable =\n",
              "            await google.colab.kernel.invokeFunction('convertToInteractive',\n",
              "                                                     [key], {});\n",
              "          if (!dataTable) return;\n",
              "\n",
              "          const docLinkHtml = 'Like what you see? Visit the ' +\n",
              "            '<a target=\"_blank\" href=https://colab.research.google.com/notebooks/data_table.ipynb>data table notebook</a>'\n",
              "            + ' to learn more about interactive tables.';\n",
              "          element.innerHTML = '';\n",
              "          dataTable['output_type'] = 'display_data';\n",
              "          await google.colab.output.renderOutput(dataTable, element);\n",
              "          const docLink = document.createElement('div');\n",
              "          docLink.innerHTML = docLinkHtml;\n",
              "          element.appendChild(docLink);\n",
              "        }\n",
              "      </script>\n",
              "    </div>\n",
              "  </div>\n",
              "  "
            ]
          },
          "metadata": {},
          "execution_count": 62
        }
      ],
      "source": [
        "#slice out the data for patients with hypertension\n",
        "hyp = df.query('hypertension == 1')\n",
        "hyp.head(2)"
      ]
    },
    {
      "cell_type": "code",
      "source": [
        "df.groupby('hypertension')['age'].mean().round().plot(kind = 'bar');\n",
        "plt.title('Average Age of Non_Hypertensive vs Hypertensive Patients')\n",
        "plt.ylabel('Age');\n"
      ],
      "metadata": {
        "colab": {
          "base_uri": "https://localhost:8080/",
          "height": 467
        },
        "id": "PnHydXInCWGJ",
        "outputId": "a1aab993-cd13-4374-a8f3-ab4c8886f84d"
      },
      "execution_count": null,
      "outputs": [
        {
          "output_type": "display_data",
          "data": {
            "text/plain": [
              "<Figure size 640x480 with 1 Axes>"
            ],
            "image/png": "[encoded data removed]"
          },
          "metadata": {}
        }
      ]
    },
    {
      "cell_type": "markdown",
      "source": [
        "According to the graph above, the average age of hypertension patients is roughly 60, whereas the average age of non-hypertensive patients is approximately 33, which is intuitively pretty plausible."
      ],
      "metadata": {
        "id": "fc97dFKNCDyg"
      }
    },
    {
      "cell_type": "code",
      "execution_count": null,
      "metadata": {
        "colab": {
          "base_uri": "https://localhost:8080/",
          "height": 430
        },
        "id": "DEN4fZi79aFm",
        "outputId": "39a2bf2f-a023-44e9-d102-50109abeb87f",
        "scrolled": true
      },
      "outputs": [
        {
          "output_type": "display_data",
          "data": {
            "text/plain": [
              "<Figure size 640x480 with 1 Axes>"
            ],
            "image/png": "[encoded data removed]"
          },
          "metadata": {}
        }
      ],
      "source": [
        "hyp.age.hist();"
      ]
    },
    {
      "cell_type": "markdown",
      "metadata": {
        "id": "p1n3RTeQ9aFm"
      },
      "source": [
        "Apparently, most of the patients with hypertension are between 40 - 80, which makes sense. There are some outliers, but the histogram doesn't show them clearly."
      ]
    },
    {
      "cell_type": "code",
      "execution_count": null,
      "metadata": {
        "colab": {
          "base_uri": "https://localhost:8080/",
          "height": 453
        },
        "id": "cl4WTYL29aFn",
        "outputId": "a9102f8b-d315-43be-f77f-87c333f7dee4",
        "scrolled": false
      },
      "outputs": [
        {
          "output_type": "display_data",
          "data": {
            "text/plain": [
              "<Figure size 640x480 with 1 Axes>"
            ],
            "image/png": "[encoded data removed]"
          },
          "metadata": {}
        }
      ],
      "source": [
        "sns.boxplot(data = hyp, x = 'hypertension',y = 'age');\n",
        "\n"
      ]
    },
    {
      "cell_type": "markdown",
      "metadata": {
        "id": "KVUxbj_e9aFn"
      },
      "source": [
        "The boxplot better visualizes the outliers. And we can see clearly that the are some patients under twenty, included in the dataset. Intuitively, this doesn't make sense, as young people hardly suffer from hypertension. [Prevalence of arterial hypertension in Brazilian adults and its associated factors and activity limitations: a cross-sectional study](https://www.google.com/url?sa=t&source=web&rct=j&url=https://www.scielo.br/j/spmj/a/htsnD7HB7fCQd3mdVNngjYg/%3Flang%3Den%23:~:text%3DRESULTS%253A,and%2520stroke%2520(PR%25201.86).&ved=2ahUKEwjNuYKygKz6AhXCQ_EDHdK-B8kQFnoECAYQBQ&usg=AOvVaw14Va6d_JViWEThvxkxxQ07)"
      ]
    },
    {
      "cell_type": "code",
      "execution_count": null,
      "metadata": {
        "id": "kkdXt2Bt9aFn"
      },
      "outputs": [],
      "source": [
        "#calculating the upper and lower bounds so as to eliminate outliers\n",
        "#Q3 - Q1 = interquartile range\n",
        "#upper bound = q3 + (1.5 * interquartile range)\n",
        "#lower bound = q1 - (1.5 * interquartile range)\n",
        "upper_bound = 70 + (1.5 * 18)\n",
        "lower_bound = 52 - (1.5 * 18)\n"
      ]
    },
    {
      "cell_type": "code",
      "execution_count": null,
      "metadata": {
        "colab": {
          "base_uri": "https://localhost:8080/"
        },
        "id": "bHVb0GvS9aFn",
        "outputId": "46da5a76-a180-41a9-e38c-f0820a5be9b1"
      },
      "outputs": [
        {
          "output_type": "execute_result",
          "data": {
            "text/plain": [
              "(25.0, 97.0)"
            ]
          },
          "metadata": {},
          "execution_count": 67
        }
      ],
      "source": [
        "lower_bound,upper_bound"
      ]
    },
    {
      "cell_type": "code",
      "execution_count": null,
      "metadata": {
        "id": "6rWBzXrF9aFo"
      },
      "outputs": [],
      "source": [
        "hyp = hyp.query(f'age > {lower_bound}') #Eliminate from __hyp__ patients that are less than 25 years old (the lower_bound)."
      ]
    },
    {
      "cell_type": "code",
      "execution_count": null,
      "metadata": {
        "colab": {
          "base_uri": "https://localhost:8080/"
        },
        "id": "2l0haBkJ9aFo",
        "outputId": "ac9eb066-cbd3-456e-a836-0db71539607a"
      },
      "outputs": [
        {
          "output_type": "execute_result",
          "data": {
            "text/plain": [
              "show       83.0\n",
              "no_show    17.0\n",
              "Name: show, dtype: float64"
            ]
          },
          "metadata": {},
          "execution_count": 69
        }
      ],
      "source": [
        "hyp_show_pct = (hyp.show.value_counts(normalize = True)*100).round()\n",
        "hyp_show_pct\n",
        "\n"
      ]
    },
    {
      "cell_type": "code",
      "execution_count": null,
      "metadata": {
        "colab": {
          "base_uri": "https://localhost:8080/",
          "height": 416
        },
        "id": "Wb0TGWGx9aFp",
        "outputId": "d9b6e331-62b2-4b1b-81f8-af0014c26c58"
      },
      "outputs": [
        {
          "output_type": "display_data",
          "data": {
            "text/plain": [
              "<Figure size 1500x700 with 2 Axes>"
            ],
            "image/png": "[encoded data removed]"
          },
          "metadata": {}
        }
      ],
      "source": [
        "fig,ax = plt.subplots(1,2,figsize = (15,7))\n",
        "\n",
        "(df.query('hypertension == 0')['show'].value_counts(normalize = True)*100).plot(kind = 'pie',autopct = '%.0f%%',ax = ax[0], title = 'Turnup ratio for Non-hypertensive patients')\n",
        "\n",
        "\n",
        "hyp_show_pct.plot(kind = 'pie',wedgeprops = {'width':0.4},ax =ax[1],autopct = '%.0f%%',counterclock = False,labels =hyp_show_pct.index, title = 'Turnup rate for Hypertensive patients')\n",
        "\n",
        "plt.axis('square');\n"
      ]
    },
    {
      "cell_type": "markdown",
      "metadata": {
        "id": "MtPC4VC69aFp"
      },
      "source": [
        "The attendance rate for hypertension and non-hypertensive patients differs by 4% when compared side by side, which is a sizable variation."
      ]
    },
    {
      "cell_type": "markdown",
      "metadata": {
        "id": "wOWc8IPd9aFp"
      },
      "source": [
        "####We try to answer research question 2 for patients with Diabetes."
      ]
    },
    {
      "cell_type": "code",
      "execution_count": null,
      "metadata": {
        "colab": {
          "base_uri": "https://localhost:8080/",
          "height": 210
        },
        "id": "Al10Y4539aFq",
        "outputId": "9c932721-4032-4a8d-ba10-273a29ca6323",
        "scrolled": false
      },
      "outputs": [
        {
          "output_type": "execute_result",
          "data": {
            "text/plain": [
              "   gender              scheduledday            appointmentday  age  \\\n",
              "4       F 2016-04-29 16:07:23+00:00 2016-04-29 00:00:00+00:00   56   \n",
              "36      F 2016-04-29 07:35:19+00:00 2016-04-29 00:00:00+00:00   63   \n",
              "\n",
              "      neighbourhood  scholarship  hypertension  diabetes  alcoholism  \\\n",
              "4   JARDIM DA PENHA            0             1         1           0   \n",
              "36    SÃO CRISTÓVÃO            0             1         1           0   \n",
              "\n",
              "    handicap  sms_received  show time_of_day age_bracket  \n",
              "4          0             0  show   afternoon       41-60  \n",
              "36         0             0  show     morning       61-80  "
            ],
            "text/html": [
              "\n",
              "  <div id=\"df-2e7fed6f-4115-433a-aa44-2226f3980e10\">\n",
              "    <div class=\"colab-df-container\">\n",
              "      <div>\n",
              "<style scoped>\n",
              "    .dataframe tbody tr th:only-of-type {\n",
              "        vertical-align: middle;\n",
              "    }\n",
              "\n",
              "    .dataframe tbody tr th {\n",
              "        vertical-align: top;\n",
              "    }\n",
              "\n",
              "    .dataframe thead th {\n",
              "        text-align: right;\n",
              "    }\n",
              "</style>\n",
              "<table border=\"1\" class=\"dataframe\">\n",
              "  <thead>\n",
              "    <tr style=\"text-align: right;\">\n",
              "      <th></th>\n",
              "      <th>gender</th>\n",
              "      <th>scheduledday</th>\n",
              "      <th>appointmentday</th>\n",
              "      <th>age</th>\n",
              "      <th>neighbourhood</th>\n",
              "      <th>scholarship</th>\n",
              "      <th>hypertension</th>\n",
              "      <th>diabetes</th>\n",
              "      <th>alcoholism</th>\n",
              "      <th>handicap</th>\n",
              "      <th>sms_received</th>\n",
              "      <th>show</th>\n",
              "      <th>time_of_day</th>\n",
              "      <th>age_bracket</th>\n",
              "    </tr>\n",
              "  </thead>\n",
              "  <tbody>\n",
              "    <tr>\n",
              "      <th>4</th>\n",
              "      <td>F</td>\n",
              "      <td>2016-04-29 16:07:23+00:00</td>\n",
              "      <td>2016-04-29 00:00:00+00:00</td>\n",
              "      <td>56</td>\n",
              "      <td>JARDIM DA PENHA</td>\n",
              "      <td>0</td>\n",
              "      <td>1</td>\n",
              "      <td>1</td>\n",
              "      <td>0</td>\n",
              "      <td>0</td>\n",
              "      <td>0</td>\n",
              "      <td>show</td>\n",
              "      <td>afternoon</td>\n",
              "      <td>41-60</td>\n",
              "    </tr>\n",
              "    <tr>\n",
              "      <th>36</th>\n",
              "      <td>F</td>\n",
              "      <td>2016-04-29 07:35:19+00:00</td>\n",
              "      <td>2016-04-29 00:00:00+00:00</td>\n",
              "      <td>63</td>\n",
              "      <td>SÃO CRISTÓVÃO</td>\n",
              "      <td>0</td>\n",
              "      <td>1</td>\n",
              "      <td>1</td>\n",
              "      <td>0</td>\n",
              "      <td>0</td>\n",
              "      <td>0</td>\n",
              "      <td>show</td>\n",
              "      <td>morning</td>\n",
              "      <td>61-80</td>\n",
              "    </tr>\n",
              "  </tbody>\n",
              "</table>\n",
              "</div>\n",
              "      <button class=\"colab-df-convert\" onclick=\"convertToInteractive('df-2e7fed6f-4115-433a-aa44-2226f3980e10')\"\n",
              "              title=\"Convert this dataframe to an interactive table.\"\n",
              "              style=\"display:none;\">\n",
              "        \n",
              "  <svg xmlns=\"http://www.w3.org/2000/svg\" height=\"24px\"viewBox=\"0 0 24 24\"\n",
              "       width=\"24px\">\n",
              "    <path d=\"M0 0h24v24H0V0z\" fill=\"none\"/>\n",
              "    <path d=\"M18.56 5.44l.94 2.06.94-2.06 2.06-.94-2.06-.94-.94-2.06-.94 2.06-2.06.94zm-11 1L8.5 8.5l.94-2.06 2.06-.94-2.06-.94L8.5 2.5l-.94 2.06-2.06.94zm10 10l.94 2.06.94-2.06 2.06-.94-2.06-.94-.94-2.06-.94 2.06-2.06.94z\"/><path d=\"M17.41 7.96l-1.37-1.37c-.4-.4-.92-.59-1.43-.59-.52 0-1.04.2-1.43.59L10.3 9.45l-7.72 7.72c-.78.78-.78 2.05 0 2.83L4 21.41c.39.39.9.59 1.41.59.51 0 1.02-.2 1.41-.59l7.78-7.78 2.81-2.81c.8-.78.8-2.07 0-2.86zM5.41 20L4 18.59l7.72-7.72 1.47 1.35L5.41 20z\"/>\n",
              "  </svg>\n",
              "      </button>\n",
              "      \n",
              "  <style>\n",
              "    .colab-df-container {\n",
              "      display:flex;\n",
              "      flex-wrap:wrap;\n",
              "      gap: 12px;\n",
              "    }\n",
              "\n",
              "    .colab-df-convert {\n",
              "      background-color: #E8F0FE;\n",
              "      border: none;\n",
              "      border-radius: 50%;\n",
              "      cursor: pointer;\n",
              "      display: none;\n",
              "      fill: #1967D2;\n",
              "      height: 32px;\n",
              "      padding: 0 0 0 0;\n",
              "      width: 32px;\n",
              "    }\n",
              "\n",
              "    .colab-df-convert:hover {\n",
              "      background-color: #E2EBFA;\n",
              "      box-shadow: 0px 1px 2px rgba(60, 64, 67, 0.3), 0px 1px 3px 1px rgba(60, 64, 67, 0.15);\n",
              "      fill: #174EA6;\n",
              "    }\n",
              "\n",
              "    [theme=dark] .colab-df-convert {\n",
              "      background-color: #3B4455;\n",
              "      fill: #D2E3FC;\n",
              "    }\n",
              "\n",
              "    [theme=dark] .colab-df-convert:hover {\n",
              "      background-color: #434B5C;\n",
              "      box-shadow: 0px 1px 3px 1px rgba(0, 0, 0, 0.15);\n",
              "      filter: drop-shadow(0px 1px 2px rgba(0, 0, 0, 0.3));\n",
              "      fill: #FFFFFF;\n",
              "    }\n",
              "  </style>\n",
              "\n",
              "      <script>\n",
              "        const buttonEl =\n",
              "          document.querySelector('#df-2e7fed6f-4115-433a-aa44-2226f3980e10 button.colab-df-convert');\n",
              "        buttonEl.style.display =\n",
              "          google.colab.kernel.accessAllowed ? 'block' : 'none';\n",
              "\n",
              "        async function convertToInteractive(key) {\n",
              "          const element = document.querySelector('#df-2e7fed6f-4115-433a-aa44-2226f3980e10');\n",
              "          const dataTable =\n",
              "            await google.colab.kernel.invokeFunction('convertToInteractive',\n",
              "                                                     [key], {});\n",
              "          if (!dataTable) return;\n",
              "\n",
              "          const docLinkHtml = 'Like what you see? Visit the ' +\n",
              "            '<a target=\"_blank\" href=https://colab.research.google.com/notebooks/data_table.ipynb>data table notebook</a>'\n",
              "            + ' to learn more about interactive tables.';\n",
              "          element.innerHTML = '';\n",
              "          dataTable['output_type'] = 'display_data';\n",
              "          await google.colab.output.renderOutput(dataTable, element);\n",
              "          const docLink = document.createElement('div');\n",
              "          docLink.innerHTML = docLinkHtml;\n",
              "          element.appendChild(docLink);\n",
              "        }\n",
              "      </script>\n",
              "    </div>\n",
              "  </div>\n",
              "  "
            ]
          },
          "metadata": {},
          "execution_count": 71
        }
      ],
      "source": [
        "dia = df.query('diabetes == 1')\n",
        "dia.head(2)"
      ]
    },
    {
      "cell_type": "markdown",
      "metadata": {
        "id": "UcBmpsna9aFq"
      },
      "source": [
        "Extracted into __dia__ are patients suffering from diabetes. "
      ]
    },
    {
      "cell_type": "code",
      "execution_count": null,
      "metadata": {
        "colab": {
          "base_uri": "https://localhost:8080/",
          "height": 430
        },
        "id": "QISScliE9aFq",
        "outputId": "cf0ed548-c2db-41c0-edae-67f7f85a4960",
        "scrolled": true
      },
      "outputs": [
        {
          "output_type": "display_data",
          "data": {
            "text/plain": [
              "<Figure size 640x480 with 1 Axes>"
            ],
            "image/png": "[encoded data removed]"
          },
          "metadata": {}
        }
      ],
      "source": [
        "dia.age.hist();"
      ]
    },
    {
      "cell_type": "markdown",
      "metadata": {
        "id": "Y70_CqFj9aFq"
      },
      "source": [
        "Apparently, most of the patients with diabetes are between 45 - 80."
      ]
    },
    {
      "cell_type": "code",
      "execution_count": null,
      "metadata": {
        "colab": {
          "base_uri": "https://localhost:8080/"
        },
        "id": "q3bL2ZoseKYt",
        "outputId": "bad22b14-6d18-42cc-acc1-daa38fe0824e"
      },
      "outputs": [
        {
          "output_type": "execute_result",
          "data": {
            "text/plain": [
              "show       82.0\n",
              "no_show    18.0\n",
              "Name: show, dtype: float64"
            ]
          },
          "metadata": {},
          "execution_count": 73
        }
      ],
      "source": [
        "dia_pct =dia.show.value_counts(normalize = True)*100\n",
        "dia_pct"
      ]
    },
    {
      "cell_type": "code",
      "execution_count": null,
      "metadata": {
        "colab": {
          "base_uri": "https://localhost:8080/",
          "height": 406
        },
        "id": "4MrB0Bflacpj",
        "outputId": "536553e9-9620-4914-edba-30ce98e7d203"
      },
      "outputs": [
        {
          "output_type": "display_data",
          "data": {
            "text/plain": [
              "<Figure size 640x480 with 1 Axes>"
            ],
            "image/png": "[encoded data removed]"
          },
          "metadata": {}
        }
      ],
      "source": [
        "plt.pie(dia_pct,wedgeprops = {'width':0.4},autopct = '%1.2f%%',counterclock = False,labels =dia_pct.index)\n",
        "plt.axis('square'); "
      ]
    },
    {
      "cell_type": "markdown",
      "metadata": {
        "id": "OLjSOQNm9aFr"
      },
      "source": [
        "Apparently, more than 80% of patients with diabetes show up for their appointment."
      ]
    },
    {
      "cell_type": "markdown",
      "metadata": {
        "id": "WldDd0Q49aFr"
      },
      "source": [
        "## hyp vs dia"
      ]
    },
    {
      "cell_type": "code",
      "execution_count": null,
      "metadata": {
        "id": "Oh1Kr8nu9aFr"
      },
      "outputs": [],
      "source": [
        "mix = hyp[['scheduledday','hypertension']].merge(dia[['gender','diabetes','show']],left_on = hyp.index, right_on = dia.index)               "
      ]
    },
    {
      "cell_type": "markdown",
      "metadata": {
        "id": "Mo4FA_9N9aFr"
      },
      "source": [
        "__mix__ contains the patients with both diabetes and hypertension. \n"
      ]
    },
    {
      "cell_type": "code",
      "execution_count": null,
      "metadata": {
        "id": "p_o6btF09aFs",
        "scrolled": false
      },
      "outputs": [],
      "source": [
        "mix_pct = mix.show.value_counts(normalize = True)*100\n"
      ]
    },
    {
      "cell_type": "code",
      "execution_count": null,
      "metadata": {
        "colab": {
          "base_uri": "https://localhost:8080/",
          "height": 428
        },
        "id": "JSpVGAFhjIF5",
        "outputId": "a4c78664-bfaf-43bc-9622-7b294528655d"
      },
      "outputs": [
        {
          "output_type": "display_data",
          "data": {
            "text/plain": [
              "<Figure size 640x480 with 1 Axes>"
            ],
            "image/png": "[encoded data removed]"
          },
          "metadata": {}
        }
      ],
      "source": [
        "plt.pie(mix_pct,wedgeprops = {'width':0.4},autopct = '%.f%%',counterclock = False,labels =mix_pct.index)\n",
        "plt.axis('square')\n",
        "plt.title('Hypertension and Diabetes Turnup rate'); "
      ]
    },
    {
      "cell_type": "markdown",
      "metadata": {
        "id": "Hpif5_K09aFs"
      },
      "source": [
        "More than 80% of patients suffering from both hypertension and diabetes showed up for their appointment. "
      ]
    },
    {
      "cell_type": "markdown",
      "metadata": {
        "id": "0au3Bs-s9aFs"
      },
      "source": [
        "### Alcoholism "
      ]
    },
    {
      "cell_type": "code",
      "execution_count": null,
      "metadata": {
        "id": "B9XaPWKL9aFs",
        "scrolled": true
      },
      "outputs": [],
      "source": [
        "alc = df.query('alcoholism == 1')"
      ]
    },
    {
      "cell_type": "markdown",
      "metadata": {
        "id": "pwXijQv09aFs"
      },
      "source": [
        "Data on alcoholic patients have been extracted."
      ]
    },
    {
      "cell_type": "code",
      "execution_count": null,
      "metadata": {
        "colab": {
          "base_uri": "https://localhost:8080/",
          "height": 430
        },
        "id": "lSrmgaWz9aFs",
        "outputId": "67e6efdd-fd4c-4a4f-d451-b0e8f69c6051",
        "scrolled": true
      },
      "outputs": [
        {
          "output_type": "display_data",
          "data": {
            "text/plain": [
              "<Figure size 640x480 with 1 Axes>"
            ],
            "image/png": "[encoded data removed]"
          },
          "metadata": {}
        }
      ],
      "source": [
        "alc.age.hist();"
      ]
    },
    {
      "cell_type": "code",
      "execution_count": null,
      "metadata": {
        "colab": {
          "base_uri": "https://localhost:8080/",
          "height": 449
        },
        "id": "HFgUYEco9aFt",
        "outputId": "ecf049db-f5d8-4e8e-d654-ddc93acbad5d",
        "scrolled": true
      },
      "outputs": [
        {
          "output_type": "display_data",
          "data": {
            "text/plain": [
              "<Figure size 640x480 with 1 Axes>"
            ],
            "image/png": "[encoded data removed]"
          },
          "metadata": {}
        }
      ],
      "source": [
        "sns.boxplot(x = 'age', data = alc);"
      ]
    },
    {
      "cell_type": "markdown",
      "metadata": {
        "id": "BVeRevAj9aFt"
      },
      "source": [
        "There less than 10 year olds tagged as alcoholics , they are outliers in the dataset and I'll take them out."
      ]
    },
    {
      "cell_type": "code",
      "execution_count": null,
      "metadata": {
        "colab": {
          "base_uri": "https://localhost:8080/"
        },
        "id": "mG5G2iXQ9aFt",
        "outputId": "0854ec59-ed1c-48fb-ba00-6ea849803d14",
        "scrolled": false
      },
      "outputs": [
        {
          "output_type": "execute_result",
          "data": {
            "text/plain": [
              "count    3352.000000\n",
              "mean       49.556384\n",
              "std        12.697680\n",
              "min         4.000000\n",
              "25%        41.000000\n",
              "50%        50.000000\n",
              "75%        59.000000\n",
              "max        85.000000\n",
              "Name: age, dtype: float64"
            ]
          },
          "metadata": {},
          "execution_count": 81
        }
      ],
      "source": [
        "alc.age.describe()"
      ]
    },
    {
      "cell_type": "code",
      "execution_count": null,
      "metadata": {
        "colab": {
          "base_uri": "https://localhost:8080/"
        },
        "id": "jAtrG9bd9aFt",
        "outputId": "2a2c58cd-1c83-456c-a0d5-c8aa65b8fb08"
      },
      "outputs": [
        {
          "output_type": "execute_result",
          "data": {
            "text/plain": [
              "14.0"
            ]
          },
          "metadata": {},
          "execution_count": 82
        }
      ],
      "source": [
        "#calculating the upper and lower bounds so as to eliminate outliers\n",
        "#Q3 - Q1 = interquartile range\n",
        "#upper bound = q3 + (1.5 * interquartile range)\n",
        "#lower bound = q1 - (1.5 * interquartile range)\n",
        "lower_bound = 41 - (1.5 * 18)\n",
        "lower_bound"
      ]
    },
    {
      "cell_type": "code",
      "execution_count": null,
      "metadata": {
        "id": "6S6Y_8-z9aFu"
      },
      "outputs": [],
      "source": [
        "alc = alc.query(f'age > {lower_bound}')"
      ]
    },
    {
      "cell_type": "code",
      "execution_count": null,
      "metadata": {
        "colab": {
          "base_uri": "https://localhost:8080/",
          "height": 428
        },
        "id": "QUpawdmc9aFu",
        "outputId": "af5dfa60-10ce-41e6-ad21-64d073aa6d1b",
        "scrolled": true
      },
      "outputs": [
        {
          "output_type": "display_data",
          "data": {
            "text/plain": [
              "<Figure size 640x480 with 1 Axes>"
            ],
            "image/png": "[encoded data removed]"
          },
          "metadata": {}
        }
      ],
      "source": [
        "alc_pct = alc.show.value_counts(normalize = True) * 100\n",
        "plt.pie(alc_pct,wedgeprops = {'width':0.4},autopct = '%.f%%',counterclock = False,labels =alc_pct.index)\n",
        "plt.axis('square')\n",
        "plt.title('Alcoholics Patients Turn-up Rate');\n",
        "\n",
        "\n"
      ]
    },
    {
      "cell_type": "markdown",
      "metadata": {
        "id": "pIvoYKDe9aFu"
      },
      "source": [
        "Quite surprisingly, my initial intuition has been proved wrong as approximately 80% of patients that are alcoholics turned up for their appointment. "
      ]
    },
    {
      "cell_type": "code",
      "execution_count": null,
      "metadata": {
        "colab": {
          "base_uri": "https://localhost:8080/"
        },
        "id": "lgArxeas9aFu",
        "outputId": "4bb3565e-3852-49ff-cdfa-de87308d4c35"
      },
      "outputs": [
        {
          "output_type": "execute_result",
          "data": {
            "text/plain": [
              "M    63.0\n",
              "F    37.0\n",
              "Name: gender, dtype: float64"
            ]
          },
          "metadata": {},
          "execution_count": 85
        }
      ],
      "source": [
        "round(alc.gender.value_counts(normalize = True) * 100,)"
      ]
    },
    {
      "cell_type": "markdown",
      "metadata": {
        "id": "Aig1PAGm9aFu"
      },
      "source": [
        "Apparently, 63 percent of Alcoholic patients are male. "
      ]
    },
    {
      "cell_type": "markdown",
      "metadata": {
        "id": "W4_tFoPk9aFv"
      },
      "source": [
        "\n",
        "### Does the type of communication used to make an appointment (e.g. sms received) have an effect on no-show rates?"
      ]
    },
    {
      "cell_type": "code",
      "execution_count": null,
      "metadata": {
        "colab": {
          "base_uri": "https://localhost:8080/",
          "height": 210
        },
        "id": "9mNHxJNE9aFv",
        "outputId": "04a41bcf-a673-466a-ea54-6066a9a567cd",
        "scrolled": false
      },
      "outputs": [
        {
          "output_type": "execute_result",
          "data": {
            "text/plain": [
              "   gender              scheduledday            appointmentday  age  \\\n",
              "11      M 2016-04-26 08:44:12+00:00 2016-04-29 00:00:00+00:00   29   \n",
              "15      F 2016-04-26 08:47:27+00:00 2016-04-29 00:00:00+00:00   15   \n",
              "\n",
              "     neighbourhood  scholarship  hypertension  diabetes  alcoholism  handicap  \\\n",
              "11  NOVA PALESTINA            0             0         0           0         0   \n",
              "15  NOVA PALESTINA            0             0         0           0         0   \n",
              "\n",
              "    sms_received     show time_of_day age_bracket  \n",
              "11             1  no_show     morning     21 - 40  \n",
              "15             1     show     morning    under 20  "
            ],
            "text/html": [
              "\n",
              "  <div id=\"df-049cd72a-8607-4e46-8b27-6abceafe01e9\">\n",
              "    <div class=\"colab-df-container\">\n",
              "      <div>\n",
              "<style scoped>\n",
              "    .dataframe tbody tr th:only-of-type {\n",
              "        vertical-align: middle;\n",
              "    }\n",
              "\n",
              "    .dataframe tbody tr th {\n",
              "        vertical-align: top;\n",
              "    }\n",
              "\n",
              "    .dataframe thead th {\n",
              "        text-align: right;\n",
              "    }\n",
              "</style>\n",
              "<table border=\"1\" class=\"dataframe\">\n",
              "  <thead>\n",
              "    <tr style=\"text-align: right;\">\n",
              "      <th></th>\n",
              "      <th>gender</th>\n",
              "      <th>scheduledday</th>\n",
              "      <th>appointmentday</th>\n",
              "      <th>age</th>\n",
              "      <th>neighbourhood</th>\n",
              "      <th>scholarship</th>\n",
              "      <th>hypertension</th>\n",
              "      <th>diabetes</th>\n",
              "      <th>alcoholism</th>\n",
              "      <th>handicap</th>\n",
              "      <th>sms_received</th>\n",
              "      <th>show</th>\n",
              "      <th>time_of_day</th>\n",
              "      <th>age_bracket</th>\n",
              "    </tr>\n",
              "  </thead>\n",
              "  <tbody>\n",
              "    <tr>\n",
              "      <th>11</th>\n",
              "      <td>M</td>\n",
              "      <td>2016-04-26 08:44:12+00:00</td>\n",
              "      <td>2016-04-29 00:00:00+00:00</td>\n",
              "      <td>29</td>\n",
              "      <td>NOVA PALESTINA</td>\n",
              "      <td>0</td>\n",
              "      <td>0</td>\n",
              "      <td>0</td>\n",
              "      <td>0</td>\n",
              "      <td>0</td>\n",
              "      <td>1</td>\n",
              "      <td>no_show</td>\n",
              "      <td>morning</td>\n",
              "      <td>21 - 40</td>\n",
              "    </tr>\n",
              "    <tr>\n",
              "      <th>15</th>\n",
              "      <td>F</td>\n",
              "      <td>2016-04-26 08:47:27+00:00</td>\n",
              "      <td>2016-04-29 00:00:00+00:00</td>\n",
              "      <td>15</td>\n",
              "      <td>NOVA PALESTINA</td>\n",
              "      <td>0</td>\n",
              "      <td>0</td>\n",
              "      <td>0</td>\n",
              "      <td>0</td>\n",
              "      <td>0</td>\n",
              "      <td>1</td>\n",
              "      <td>show</td>\n",
              "      <td>morning</td>\n",
              "      <td>under 20</td>\n",
              "    </tr>\n",
              "  </tbody>\n",
              "</table>\n",
              "</div>\n",
              "      <button class=\"colab-df-convert\" onclick=\"convertToInteractive('df-049cd72a-8607-4e46-8b27-6abceafe01e9')\"\n",
              "              title=\"Convert this dataframe to an interactive table.\"\n",
              "              style=\"display:none;\">\n",
              "        \n",
              "  <svg xmlns=\"http://www.w3.org/2000/svg\" height=\"24px\"viewBox=\"0 0 24 24\"\n",
              "       width=\"24px\">\n",
              "    <path d=\"M0 0h24v24H0V0z\" fill=\"none\"/>\n",
              "    <path d=\"M18.56 5.44l.94 2.06.94-2.06 2.06-.94-2.06-.94-.94-2.06-.94 2.06-2.06.94zm-11 1L8.5 8.5l.94-2.06 2.06-.94-2.06-.94L8.5 2.5l-.94 2.06-2.06.94zm10 10l.94 2.06.94-2.06 2.06-.94-2.06-.94-.94-2.06-.94 2.06-2.06.94z\"/><path d=\"M17.41 7.96l-1.37-1.37c-.4-.4-.92-.59-1.43-.59-.52 0-1.04.2-1.43.59L10.3 9.45l-7.72 7.72c-.78.78-.78 2.05 0 2.83L4 21.41c.39.39.9.59 1.41.59.51 0 1.02-.2 1.41-.59l7.78-7.78 2.81-2.81c.8-.78.8-2.07 0-2.86zM5.41 20L4 18.59l7.72-7.72 1.47 1.35L5.41 20z\"/>\n",
              "  </svg>\n",
              "      </button>\n",
              "      \n",
              "  <style>\n",
              "    .colab-df-container {\n",
              "      display:flex;\n",
              "      flex-wrap:wrap;\n",
              "      gap: 12px;\n",
              "    }\n",
              "\n",
              "    .colab-df-convert {\n",
              "      background-color: #E8F0FE;\n",
              "      border: none;\n",
              "      border-radius: 50%;\n",
              "      cursor: pointer;\n",
              "      display: none;\n",
              "      fill: #1967D2;\n",
              "      height: 32px;\n",
              "      padding: 0 0 0 0;\n",
              "      width: 32px;\n",
              "    }\n",
              "\n",
              "    .colab-df-convert:hover {\n",
              "      background-color: #E2EBFA;\n",
              "      box-shadow: 0px 1px 2px rgba(60, 64, 67, 0.3), 0px 1px 3px 1px rgba(60, 64, 67, 0.15);\n",
              "      fill: #174EA6;\n",
              "    }\n",
              "\n",
              "    [theme=dark] .colab-df-convert {\n",
              "      background-color: #3B4455;\n",
              "      fill: #D2E3FC;\n",
              "    }\n",
              "\n",
              "    [theme=dark] .colab-df-convert:hover {\n",
              "      background-color: #434B5C;\n",
              "      box-shadow: 0px 1px 3px 1px rgba(0, 0, 0, 0.15);\n",
              "      filter: drop-shadow(0px 1px 2px rgba(0, 0, 0, 0.3));\n",
              "      fill: #FFFFFF;\n",
              "    }\n",
              "  </style>\n",
              "\n",
              "      <script>\n",
              "        const buttonEl =\n",
              "          document.querySelector('#df-049cd72a-8607-4e46-8b27-6abceafe01e9 button.colab-df-convert');\n",
              "        buttonEl.style.display =\n",
              "          google.colab.kernel.accessAllowed ? 'block' : 'none';\n",
              "\n",
              "        async function convertToInteractive(key) {\n",
              "          const element = document.querySelector('#df-049cd72a-8607-4e46-8b27-6abceafe01e9');\n",
              "          const dataTable =\n",
              "            await google.colab.kernel.invokeFunction('convertToInteractive',\n",
              "                                                     [key], {});\n",
              "          if (!dataTable) return;\n",
              "\n",
              "          const docLinkHtml = 'Like what you see? Visit the ' +\n",
              "            '<a target=\"_blank\" href=https://colab.research.google.com/notebooks/data_table.ipynb>data table notebook</a>'\n",
              "            + ' to learn more about interactive tables.';\n",
              "          element.innerHTML = '';\n",
              "          dataTable['output_type'] = 'display_data';\n",
              "          await google.colab.output.renderOutput(dataTable, element);\n",
              "          const docLink = document.createElement('div');\n",
              "          docLink.innerHTML = docLinkHtml;\n",
              "          element.appendChild(docLink);\n",
              "        }\n",
              "      </script>\n",
              "    </div>\n",
              "  </div>\n",
              "  "
            ]
          },
          "metadata": {},
          "execution_count": 86
        }
      ],
      "source": [
        "sms = df.query('sms_received == 1')\n",
        "sms.head(2)"
      ]
    },
    {
      "cell_type": "markdown",
      "metadata": {
        "id": "QGlR_rhY9aFv"
      },
      "source": [
        "Data on patients that got an sms, extracted."
      ]
    },
    {
      "cell_type": "code",
      "execution_count": null,
      "metadata": {
        "colab": {
          "base_uri": "https://localhost:8080/",
          "height": 406
        },
        "id": "TtARGAcP9aFv",
        "outputId": "d705b5aa-f55d-4085-ff46-86317917a78c",
        "scrolled": true
      },
      "outputs": [
        {
          "output_type": "display_data",
          "data": {
            "text/plain": [
              "<Figure size 640x480 with 1 Axes>"
            ],
            "image/png": "[encoded data removed]"
          },
          "metadata": {}
        }
      ],
      "source": [
        "(sms.show.value_counts(normalize= True) * 100).to_frame().plot(kind = 'pie',subplots = True,autopct = '%.2f%%');\n"
      ]
    },
    {
      "cell_type": "markdown",
      "metadata": {
        "id": "hLTkzZVp9aFw"
      },
      "source": [
        "The effect of an sms reminder is not massive as previous comparisms between the __show__ column and other variables have yielded a __\"showed up\" __ percentage higher than that of the __sms_received__ column and a __\"no show\"__ percentage lower than that of the __sms_received__ column. "
      ]
    },
    {
      "cell_type": "code",
      "execution_count": null,
      "metadata": {
        "colab": {
          "base_uri": "https://localhost:8080/"
        },
        "id": "lNEN4_KX9aFw",
        "outputId": "e29eee9b-6639-4e3c-8322-7f0e7e1c70ef"
      },
      "outputs": [
        {
          "output_type": "execute_result",
          "data": {
            "text/plain": [
              "JARDIM CAMBURI       2526\n",
              "MARIA ORTIZ          2029\n",
              "RESISTÊNCIA          1431\n",
              "JARDIM DA PENHA      1416\n",
              "ITARARÉ              1125\n",
              "                     ... \n",
              "MORADA DE CAMBURI      40\n",
              "PONTAL DE CAMBURI      24\n",
              "ILHA DO BOI             7\n",
              "ILHA DO FRADE           6\n",
              "AEROPORTO               1\n",
              "Name: neighbourhood, Length: 79, dtype: int64"
            ]
          },
          "metadata": {},
          "execution_count": 88
        }
      ],
      "source": [
        "sms.neighbourhood.value_counts()"
      ]
    },
    {
      "cell_type": "markdown",
      "metadata": {
        "id": "XMVcDPua9aFw"
      },
      "source": [
        "### How does the time difference between the appointment day and scheduled day affect the decision to send an sms reminder?"
      ]
    },
    {
      "cell_type": "code",
      "execution_count": null,
      "metadata": {
        "colab": {
          "base_uri": "https://localhost:8080/"
        },
        "id": "j1Gxn7I99aFw",
        "outputId": "b39cd8e1-b639-4afa-e37c-cee3294512a0",
        "scrolled": true
      },
      "outputs": [
        {
          "output_type": "stream",
          "name": "stderr",
          "text": [
            "<ipython-input-89-8c1dbdd860d8>:1: SettingWithCopyWarning: \n",
            "A value is trying to be set on a copy of a slice from a DataFrame.\n",
            "Try using .loc[row_indexer,col_indexer] = value instead\n",
            "\n",
            "See the caveats in the documentation: https://pandas.pydata.org/pandas-docs/stable/user_guide/indexing.html#returning-a-view-versus-a-copy\n",
            "  sms['time_diff'] = sms.appointmentday - sms.scheduledday\n"
          ]
        }
      ],
      "source": [
        "sms['time_diff'] = sms.appointmentday - sms.scheduledday"
      ]
    },
    {
      "cell_type": "markdown",
      "metadata": {
        "id": "xVQyhIlB9aFw"
      },
      "source": [
        "Using the sliced dataset for all patients sent an sms reminder, I have created a __time_diff__ column to compute the difference between the appointment day and scheduled day. From this, I'll be able to extract the minimum amout of waiting for one to get an sms reminder."
      ]
    },
    {
      "cell_type": "code",
      "execution_count": null,
      "metadata": {
        "id": "r_sCGDRX9aFx",
        "outputId": "7e5702a5-8813-4df7-f9b7-2e48ada672fd",
        "scrolled": true
      },
      "outputs": [
        {
          "data": {
            "text/plain": [
              "Timedelta('2 days 08:01:12')"
            ]
          },
          "execution_count": 27,
          "metadata": {},
          "output_type": "execute_result"
        }
      ],
      "source": [
        "sms.time_diff.min()"
      ]
    },
    {
      "cell_type": "markdown",
      "metadata": {
        "id": "8h1MAdY69aFx"
      },
      "source": [
        "Apparently, only those whose waiting time is more than two days get sms reminders"
      ]
    }
  ],
  "metadata": {
    "accelerator": "GPU",
    "colab": {
      "provenance": [],
      "include_colab_link": true
    },
    "gpuClass": "standard",
    "kernelspec": {
      "display_name": "Python 3 (ipykernel)",
      "language": "python",
      "name": "python3"
    },
    "language_info": {
      "codemirror_mode": {
        "name": "ipython",
        "version": 3
      },
      "file_extension": ".py",
      "mimetype": "text/x-python",
      "name": "python",
      "nbconvert_exporter": "python",
      "pygments_lexer": "ipython3",
      "version": "3.9.7"
    }
  },
  "nbformat": 4,
  "nbformat_minor": 0
}